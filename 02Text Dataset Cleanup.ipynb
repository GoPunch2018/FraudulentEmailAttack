{
 "cells": [
  {
   "cell_type": "code",
   "execution_count": 1,
   "id": "97a828ba",
   "metadata": {
    "ExecuteTime": {
     "start_time": "2023-11-26T21:59:49.890064Z",
     "end_time": "2023-11-26T21:59:56.460322Z"
    }
   },
   "outputs": [],
   "source": [
    "import os\n",
    "\n",
    "from raw_utils import save_to_csv\n",
    "import preprocessing as util\n",
    "\n",
    "import pandas as pd\n",
    "import numpy as np"
   ]
  },
  {
   "cell_type": "code",
   "execution_count": 2,
   "id": "d084edcd",
   "metadata": {
    "ExecuteTime": {
     "start_time": "2023-11-26T21:59:56.465089Z",
     "end_time": "2023-11-26T21:59:56.466812Z"
    }
   },
   "outputs": [],
   "source": [
    "# Paths\n",
    "cwd = os.getcwd()\n",
    "csv_path = os.path.join(cwd, 'data/csv/')\n",
    "\n",
    "# Filenames\n",
    "nazario_csv = 'nazario_recent.csv'\n",
    "enron_csv = ['enron_text_2000.csv', 'enron_text_20000.csv']"
   ]
  },
  {
   "cell_type": "markdown",
   "id": "a62b487b",
   "metadata": {},
   "source": [
    "## Phishing"
   ]
  },
  {
   "cell_type": "markdown",
   "id": "91a27895",
   "metadata": {},
   "source": [
    "First, read the csv with the recent emails."
   ]
  },
  {
   "cell_type": "code",
   "execution_count": 3,
   "id": "3ce2d3c3",
   "metadata": {
    "ExecuteTime": {
     "start_time": "2023-11-26T21:59:56.466812Z",
     "end_time": "2023-11-26T21:59:56.544202Z"
    }
   },
   "outputs": [],
   "source": [
    "phishing_text_raw = pd.read_csv(os.path.join(csv_path, nazario_csv), index_col=0, dtype={'body': 'object'})"
   ]
  },
  {
   "cell_type": "code",
   "execution_count": 4,
   "id": "1457d7d2",
   "metadata": {
    "ExecuteTime": {
     "start_time": "2023-11-26T21:59:56.544202Z",
     "end_time": "2023-11-26T21:59:56.622991Z"
    }
   },
   "outputs": [
    {
     "name": "stdout",
     "output_type": "stream",
     "text": [
      "<class 'pandas.core.frame.DataFrame'>\n",
      "Int64Index: 2163 entries, 0 to 2162\n",
      "Data columns (total 1 columns):\n",
      " #   Column  Non-Null Count  Dtype \n",
      "---  ------  --------------  ----- \n",
      " 0   body    2093 non-null   object\n",
      "dtypes: object(1)\n",
      "memory usage: 33.8+ KB\n"
     ]
    }
   ],
   "source": [
    "phishing_text_raw.info()"
   ]
  },
  {
   "cell_type": "markdown",
   "id": "0f028cd6",
   "metadata": {},
   "source": [
    "### Cleanup"
   ]
  },
  {
   "cell_type": "markdown",
   "id": "5b10c3c2",
   "metadata": {},
   "source": [
    "#### Remove Uninformative Rows"
   ]
  },
  {
   "cell_type": "markdown",
   "id": "0c3f6dae",
   "metadata": {},
   "source": [
    "There are some rows with `null` bodies. Those need to be dropped in order for the other functions to work."
   ]
  },
  {
   "cell_type": "code",
   "execution_count": 5,
   "id": "3d517da5",
   "metadata": {
    "ExecuteTime": {
     "start_time": "2023-11-26T21:59:56.576136Z",
     "end_time": "2023-11-26T21:59:56.622991Z"
    }
   },
   "outputs": [],
   "source": [
    "phishing_text_raw = phishing_text_raw.dropna()"
   ]
  },
  {
   "cell_type": "markdown",
   "id": "35835667",
   "metadata": {},
   "source": [
    "There are multipart emails that were empty except for attachments, so they can also be dropped."
   ]
  },
  {
   "cell_type": "code",
   "execution_count": 6,
   "id": "fe593f08",
   "metadata": {
    "ExecuteTime": {
     "start_time": "2023-11-26T21:59:56.591743Z",
     "end_time": "2023-11-26T21:59:56.638522Z"
    }
   },
   "outputs": [
    {
     "data": {
      "text/plain": "(2085, 1)"
     },
     "execution_count": 6,
     "metadata": {},
     "output_type": "execute_result"
    }
   ],
   "source": [
    "phishing_text = phishing_text_raw[phishing_text_raw['body'].apply(util.check_empty) == False]\n",
    "phishing_text.shape"
   ]
  },
  {
   "cell_type": "markdown",
   "id": "35696fe2",
   "metadata": {},
   "source": [
    "Afterwards, we can see that there are some computer generated messages at the beginning of the mbox files, which we also need to remove."
   ]
  },
  {
   "cell_type": "code",
   "execution_count": 7,
   "id": "34a4033b",
   "metadata": {
    "ExecuteTime": {
     "start_time": "2023-11-26T21:59:56.607293Z",
     "end_time": "2023-11-26T21:59:56.638522Z"
    },
    "scrolled": true
   },
   "outputs": [
    {
     "data": {
      "text/plain": "(2079, 1)"
     },
     "execution_count": 7,
     "metadata": {},
     "output_type": "execute_result"
    }
   ],
   "source": [
    "phishing_text = phishing_text[phishing_text['body'].str.contains(\"This text is part of the internal format of your mail folder, and is not\\na real message.\") == False]\n",
    "phishing_text.shape"
   ]
  },
  {
   "cell_type": "markdown",
   "id": "5d99c3f7",
   "metadata": {},
   "source": [
    "Finally, the duplicate rows will be removed."
   ]
  },
  {
   "cell_type": "code",
   "execution_count": 8,
   "id": "24bbe2ba",
   "metadata": {
    "ExecuteTime": {
     "start_time": "2023-11-26T21:59:56.622991Z",
     "end_time": "2023-11-26T21:59:56.717327Z"
    }
   },
   "outputs": [
    {
     "data": {
      "text/plain": "(1912, 1)"
     },
     "execution_count": 8,
     "metadata": {},
     "output_type": "execute_result"
    }
   ],
   "source": [
    "phishing_text = phishing_text[phishing_text.duplicated(keep='first') == False]\n",
    "phishing_text.shape"
   ]
  },
  {
   "cell_type": "markdown",
   "source": [
    "There were a lot of duplicates and now 1688 emails remain to work with."
   ],
   "metadata": {
    "collapsed": false
   }
  },
  {
   "cell_type": "markdown",
   "id": "31d06d84",
   "metadata": {},
   "source": [
    "## Legitimate"
   ]
  },
  {
   "cell_type": "markdown",
   "id": "d61b5eb6",
   "metadata": {},
   "source": [
    "This process will be repeated with the two legitimate email datasets (since we aim for ratios of 1:1 and 1:10)."
   ]
  },
  {
   "cell_type": "code",
   "execution_count": 9,
   "id": "db5b4110",
   "metadata": {
    "ExecuteTime": {
     "start_time": "2023-11-26T21:59:56.654741Z",
     "end_time": "2023-11-26T21:59:56.717327Z"
    },
    "scrolled": true
   },
   "outputs": [
    {
     "name": "stdout",
     "output_type": "stream",
     "text": [
      "<class 'pandas.core.frame.DataFrame'>\n",
      "Int64Index: 2000 entries, 0 to 1999\n",
      "Data columns (total 1 columns):\n",
      " #   Column  Non-Null Count  Dtype \n",
      "---  ------  --------------  ----- \n",
      " 0   body    2000 non-null   object\n",
      "dtypes: object(1)\n",
      "memory usage: 31.2+ KB\n"
     ]
    }
   ],
   "source": [
    "legit_text_small_raw = pd.read_csv(os.path.join(csv_path, enron_csv[0]), index_col=0, dtype={'body': 'object'})\n",
    "legit_text_small_raw.info()"
   ]
  },
  {
   "cell_type": "code",
   "execution_count": 10,
   "id": "c5d3afbe",
   "metadata": {
    "ExecuteTime": {
     "start_time": "2023-11-26T21:59:56.717327Z",
     "end_time": "2023-11-26T21:59:57.016036Z"
    }
   },
   "outputs": [
    {
     "name": "stdout",
     "output_type": "stream",
     "text": [
      "<class 'pandas.core.frame.DataFrame'>\n",
      "Int64Index: 20000 entries, 0 to 19999\n",
      "Data columns (total 1 columns):\n",
      " #   Column  Non-Null Count  Dtype \n",
      "---  ------  --------------  ----- \n",
      " 0   body    20000 non-null  object\n",
      "dtypes: object(1)\n",
      "memory usage: 312.5+ KB\n"
     ]
    }
   ],
   "source": [
    "legit_text_big_raw = pd.read_csv(os.path.join(csv_path, enron_csv[1]), index_col=0, dtype={'body': 'object'})\n",
    "legit_text_big_raw.info()"
   ]
  },
  {
   "cell_type": "markdown",
   "id": "1c945338",
   "metadata": {},
   "source": [
    "### Cleanup"
   ]
  },
  {
   "cell_type": "markdown",
   "id": "3f67f27f",
   "metadata": {},
   "source": [
    "#### Remove Uninformative Rows"
   ]
  },
  {
   "cell_type": "markdown",
   "id": "08882a49",
   "metadata": {},
   "source": [
    "Drop `null` rows."
   ]
  },
  {
   "cell_type": "code",
   "execution_count": 11,
   "id": "431e6c4d",
   "metadata": {
    "ExecuteTime": {
     "start_time": "2023-11-26T21:59:57.016036Z",
     "end_time": "2023-11-26T21:59:57.079177Z"
    }
   },
   "outputs": [
    {
     "data": {
      "text/plain": "(2000, 1)"
     },
     "execution_count": 11,
     "metadata": {},
     "output_type": "execute_result"
    }
   ],
   "source": [
    "legit_text_small_raw = legit_text_small_raw.dropna()\n",
    "legit_text_small_raw.shape"
   ]
  },
  {
   "cell_type": "code",
   "execution_count": 12,
   "id": "f8296529",
   "metadata": {
    "ExecuteTime": {
     "start_time": "2023-11-26T21:59:57.031650Z",
     "end_time": "2023-11-26T21:59:57.079177Z"
    }
   },
   "outputs": [
    {
     "data": {
      "text/plain": "(20000, 1)"
     },
     "execution_count": 12,
     "metadata": {},
     "output_type": "execute_result"
    }
   ],
   "source": [
    "legit_text_big_raw = legit_text_big_raw.dropna()\n",
    "legit_text_big_raw.shape"
   ]
  },
  {
   "cell_type": "markdown",
   "id": "458333ed",
   "metadata": {},
   "source": [
    "Check for empty emails."
   ]
  },
  {
   "cell_type": "code",
   "execution_count": 13,
   "id": "f48640db",
   "metadata": {
    "ExecuteTime": {
     "start_time": "2023-11-26T21:59:57.051235Z",
     "end_time": "2023-11-26T21:59:57.079177Z"
    }
   },
   "outputs": [
    {
     "data": {
      "text/plain": "(2000, 1)"
     },
     "execution_count": 13,
     "metadata": {},
     "output_type": "execute_result"
    }
   ],
   "source": [
    "legit_text_small = legit_text_small_raw[legit_text_small_raw['body'].apply(util.check_empty) == False]\n",
    "legit_text_small.shape"
   ]
  },
  {
   "cell_type": "code",
   "execution_count": 14,
   "id": "8638e236",
   "metadata": {
    "ExecuteTime": {
     "start_time": "2023-11-26T21:59:57.063452Z",
     "end_time": "2023-11-26T21:59:57.094713Z"
    }
   },
   "outputs": [
    {
     "data": {
      "text/plain": "(20000, 1)"
     },
     "execution_count": 14,
     "metadata": {},
     "output_type": "execute_result"
    }
   ],
   "source": [
    "legit_text_big = legit_text_big_raw[legit_text_big_raw['body'].apply(util.check_empty) == False]\n",
    "legit_text_big.shape"
   ]
  },
  {
   "cell_type": "markdown",
   "id": "d11ad3aa",
   "metadata": {},
   "source": [
    "There are no computer generated emails like those removed above in this dataset, so only the duplicates need removal."
   ]
  },
  {
   "cell_type": "code",
   "execution_count": 15,
   "id": "253a3ca2",
   "metadata": {
    "ExecuteTime": {
     "start_time": "2023-11-26T21:59:57.094713Z",
     "end_time": "2023-11-26T21:59:57.158273Z"
    },
    "scrolled": true
   },
   "outputs": [
    {
     "data": {
      "text/plain": "(1987, 1)"
     },
     "execution_count": 15,
     "metadata": {},
     "output_type": "execute_result"
    }
   ],
   "source": [
    "legit_text_small = legit_text_small[legit_text_small.duplicated(keep='first') == False]\n",
    "legit_text_small.shape"
   ]
  },
  {
   "cell_type": "code",
   "execution_count": 16,
   "id": "d0116356",
   "metadata": {
    "ExecuteTime": {
     "start_time": "2023-11-26T21:59:57.110330Z",
     "end_time": "2023-11-26T21:59:57.228552Z"
    },
    "scrolled": false
   },
   "outputs": [
    {
     "data": {
      "text/plain": "(19150, 1)"
     },
     "execution_count": 16,
     "metadata": {},
     "output_type": "execute_result"
    }
   ],
   "source": [
    "legit_text_big = legit_text_big[legit_text_big.duplicated(keep='first') == False]\n",
    "legit_text_big.shape"
   ]
  },
  {
   "cell_type": "markdown",
   "id": "44ba5688",
   "metadata": {},
   "source": [
    "## Mixed Datasets"
   ]
  },
  {
   "cell_type": "markdown",
   "id": "31b59c1e",
   "metadata": {},
   "source": [
    "Finally, the two mixed datasets will be created, adding an extra column that shows the class (phishing or legitimate).<br>\n",
    "In addition, the datasets will be shuffled and a column containing a unique identifier will be added."
   ]
  },
  {
   "cell_type": "code",
   "execution_count": 17,
   "id": "f967470e",
   "metadata": {
    "ExecuteTime": {
     "start_time": "2023-11-26T21:59:57.212921Z",
     "end_time": "2023-11-26T21:59:57.228552Z"
    }
   },
   "outputs": [],
   "source": [
    "phishing_text['class'] = 1"
   ]
  },
  {
   "cell_type": "markdown",
   "id": "b13dcaa0",
   "metadata": {},
   "source": [
    "#### 1:1 ratio"
   ]
  },
  {
   "cell_type": "code",
   "execution_count": 18,
   "id": "65dc8690",
   "metadata": {
    "ExecuteTime": {
     "start_time": "2023-11-26T21:59:57.228552Z",
     "end_time": "2023-11-26T21:59:57.244166Z"
    }
   },
   "outputs": [],
   "source": [
    "legit_text_small = legit_text_small.sample(n=1688, random_state=1746)\n",
    "legit_text_small['class'] = 0"
   ]
  },
  {
   "cell_type": "code",
   "execution_count": 19,
   "id": "9cf601f4",
   "metadata": {
    "ExecuteTime": {
     "start_time": "2023-11-26T21:59:57.244166Z",
     "end_time": "2023-11-26T21:59:57.291740Z"
    }
   },
   "outputs": [],
   "source": [
    "balanced = pd.concat([phishing_text, legit_text_small])\n",
    "balanced = balanced.sample(frac=1, random_state=1746).reset_index(drop=True)\n",
    "balanced.insert(0, 'id', balanced.index)"
   ]
  },
  {
   "cell_type": "code",
   "execution_count": 20,
   "id": "8d1fb370",
   "metadata": {
    "ExecuteTime": {
     "start_time": "2023-11-26T21:59:57.261014Z",
     "end_time": "2023-11-26T21:59:59.425449Z"
    },
    "scrolled": true
   },
   "outputs": [
    {
     "name": "stdout",
     "output_type": "stream",
     "text": [
      "File C:\\Users\\13636\\OneDrive\\01WorkingDirectory\\02PycharmProjects\\FraudulentEmailAttack\\data/csv/balanced.csv already exists.\n",
      "Aborting, data will not be written.\n"
     ]
    }
   ],
   "source": [
    "save_to_csv(balanced, csv_path, 'balanced.csv')"
   ]
  },
  {
   "cell_type": "markdown",
   "id": "554995c5",
   "metadata": {},
   "source": [
    "#### 1:10 ratio"
   ]
  },
  {
   "cell_type": "code",
   "execution_count": 21,
   "id": "0421b068",
   "metadata": {
    "ExecuteTime": {
     "start_time": "2023-11-26T21:59:59.394116Z",
     "end_time": "2023-11-26T21:59:59.425449Z"
    }
   },
   "outputs": [],
   "source": [
    "legit_text_big = legit_text_big.sample(n=16880, random_state=1746)\n",
    "legit_text_big['class'] = 0"
   ]
  },
  {
   "cell_type": "code",
   "execution_count": 22,
   "id": "455fe6f0",
   "metadata": {
    "ExecuteTime": {
     "start_time": "2023-11-26T21:59:59.409754Z",
     "end_time": "2023-11-26T21:59:59.425449Z"
    }
   },
   "outputs": [],
   "source": [
    "imbalanced = pd.concat([phishing_text, legit_text_big])\n",
    "imbalanced = imbalanced.sample(frac=1, random_state=1746).reset_index(drop=True)\n",
    "imbalanced.insert(0, 'id', imbalanced.index)"
   ]
  },
  {
   "cell_type": "code",
   "execution_count": 23,
   "id": "cd6b8f43",
   "metadata": {
    "ExecuteTime": {
     "start_time": "2023-11-26T21:59:59.425449Z",
     "end_time": "2023-11-26T22:00:00.026372Z"
    }
   },
   "outputs": [
    {
     "name": "stdout",
     "output_type": "stream",
     "text": [
      "File C:\\Users\\13636\\OneDrive\\01WorkingDirectory\\02PycharmProjects\\FraudulentEmailAttack\\data/csv/imbalanced.csv already exists.\n",
      "Aborting, data will not be written.\n"
     ]
    }
   ],
   "source": [
    "save_to_csv(imbalanced, csv_path, 'imbalanced.csv')"
   ]
  },
  {
   "cell_type": "code",
   "execution_count": 23,
   "id": "3baccf2b",
   "metadata": {
    "ExecuteTime": {
     "start_time": "2023-11-26T21:59:59.994901Z",
     "end_time": "2023-11-26T22:00:00.026372Z"
    }
   },
   "outputs": [],
   "source": []
  }
 ],
 "metadata": {
  "kernelspec": {
   "display_name": "Python 3 (ipykernel)",
   "language": "python",
   "name": "python3"
  },
  "language_info": {
   "codemirror_mode": {
    "name": "ipython",
    "version": 3
   },
   "file_extension": ".py",
   "mimetype": "text/x-python",
   "name": "python",
   "nbconvert_exporter": "python",
   "pygments_lexer": "ipython3",
   "version": "3.11.5"
  }
 },
 "nbformat": 4,
 "nbformat_minor": 5
}
