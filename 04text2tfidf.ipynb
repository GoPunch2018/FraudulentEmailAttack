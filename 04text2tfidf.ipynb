{
 "cells": [
  {
   "cell_type": "code",
   "execution_count": 1,
   "outputs": [],
   "source": [
    "import os\n",
    "import pandas as pd\n",
    "import numpy as np\n",
    "\n",
    "pd.options.display.max_columns = 250\n",
    "pd.options.display.max_colwidth = 160\n",
    "\n",
    "import features as util\n",
    "from raw_utils import save_to_csv\n",
    "from preprocessing import dataset_add_columns\n",
    "\n",
    "from ast import literal_eval\n",
    "\n",
    "cwd = os.getcwd()\n",
    "csv_path = os.path.join(cwd, 'data/csv/')\n",
    "\n",
    "generic_spam_tokens = 'generic_spam_tokens.csv'\n",
    "non_targeted_tokens = 'non_targeted_tokens.csv'\n",
    "\n",
    "generic_spam_tokens = pd.read_csv(os.path.join(csv_path, generic_spam_tokens), index_col=0,\n",
    "                                  converters={'body': literal_eval})\n",
    "non_targeted_tokens = pd.read_csv(os.path.join(csv_path, non_targeted_tokens), index_col=0,\n",
    "                                  converters={'body': literal_eval})\n",
    "\n",
    "tfidf_balanced = util.tfidf_features_unsupervised(generic_spam_tokens['body'], min_df=5, ngram_range=(1, 3),\n",
    "                                                  max_features=500, topic_number=10)\n",
    "W_generic_spam = tfidf_balanced['document-topic']\n",
    "H_generic_spam = tfidf_balanced['topic-term']\n",
    "tfidf_vectorizer_ge = tfidf_balanced['tfidf_vectorizer']\n",
    "a = util.get_topics(tfidf_vectorizer_ge, H_generic_spam)"
   ],
   "metadata": {
    "collapsed": false,
    "ExecuteTime": {
     "start_time": "2023-11-30T21:52:45.018776Z",
     "end_time": "2023-11-30T21:54:07.668818Z"
    }
   }
  },
  {
   "cell_type": "code",
   "execution_count": 5,
   "outputs": [],
   "source": [
    "\n",
    "tfidf_non_targeted = util.tfidf_features_unsupervised(non_targeted_tokens['body'], min_df=5, ngram_range=(1, 3),\n",
    "                                                      max_features=500, topic_number=15)\n",
    "W_non_targeted = tfidf_non_targeted['document-topic']\n",
    "H_non_targeted = tfidf_non_targeted['topic-term']\n",
    "tfidf_vectorizer_non = tfidf_non_targeted['tfidf_vectorizer']\n",
    "b = util.get_topics(tfidf_vectorizer_non, H_non_targeted)\n",
    "topic_dimension = util.topic_dimension_mapping()"
   ],
   "metadata": {
    "collapsed": false,
    "ExecuteTime": {
     "start_time": "2023-11-30T22:04:27.109709Z",
     "end_time": "2023-11-30T22:04:35.097058Z"
    }
   }
  },
  {
   "cell_type": "code",
   "execution_count": 9,
   "outputs": [],
   "source": [
    "with open(\"output.txt\", \"w\") as file:\n",
    "    for i in b:\n",
    "        for j in i:\n",
    "            file.write(j + \" \")\n",
    "        file.write(\"\\n\")"
   ],
   "metadata": {
    "collapsed": false,
    "ExecuteTime": {
     "start_time": "2023-11-30T22:14:13.922346Z",
     "end_time": "2023-11-30T22:14:13.954959Z"
    }
   }
  },
  {
   "cell_type": "code",
   "execution_count": null,
   "outputs": [],
   "source": [],
   "metadata": {
    "collapsed": false
   }
  }
 ],
 "metadata": {
  "kernelspec": {
   "display_name": "Python 3",
   "language": "python",
   "name": "python3"
  },
  "language_info": {
   "codemirror_mode": {
    "name": "ipython",
    "version": 2
   },
   "file_extension": ".py",
   "mimetype": "text/x-python",
   "name": "python",
   "nbconvert_exporter": "python",
   "pygments_lexer": "ipython2",
   "version": "2.7.6"
  }
 },
 "nbformat": 4,
 "nbformat_minor": 0
}
