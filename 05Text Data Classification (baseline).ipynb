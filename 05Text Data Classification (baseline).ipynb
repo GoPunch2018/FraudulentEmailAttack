{
 "cells": [
  {
   "cell_type": "code",
   "execution_count": 1,
   "id": "0c0ae3ca",
   "metadata": {
    "ExecuteTime": {
     "start_time": "2023-11-27T16:34:29.762370Z",
     "end_time": "2023-11-27T16:34:32.580745Z"
    }
   },
   "outputs": [],
   "source": [
    "import os\n",
    "import pandas as pd\n",
    "pd.options.display.max_columns = 250\n",
    "\n",
    "import machine_learning as ml\n",
    "from preprocessing import separate_features_target\n",
    "\n",
    "from ast import literal_eval"
   ]
  },
  {
   "cell_type": "code",
   "execution_count": 2,
   "id": "8c25aaab",
   "metadata": {
    "ExecuteTime": {
     "start_time": "2023-11-27T16:34:32.585742Z",
     "end_time": "2023-11-27T16:34:32.597116Z"
    }
   },
   "outputs": [],
   "source": [
    "# Path\n",
    "cwd = os.getcwd()\n",
    "csv_path = os.path.join(cwd, 'data/csv/')\n",
    "\n",
    "train = {\n",
    "    'tfidf_sel' : ['tfidf_chi2_train_balanced.csv','tfidf_chi2_train_imbalanced.csv'],\n",
    "    'word2vec' : ['word2vec_train_balanced.csv','word2vec_train_imbalanced.csv']\n",
    "}\n",
    "test = {\n",
    "    'tfidf_sel' : ['tfidf_chi2_test_balanced.csv','tfidf_chi2_test_imbalanced.csv'],\n",
    "    'word2vec' : ['word2vec_test_balanced.csv','word2vec_test_imbalanced.csv']\n",
    "}"
   ]
  },
  {
   "cell_type": "markdown",
   "id": "3443f03d",
   "metadata": {},
   "source": [
    "# Balanced Dataset"
   ]
  },
  {
   "cell_type": "markdown",
   "id": "cfe426c1",
   "metadata": {},
   "source": [
    "## Train TF-IDF"
   ]
  },
  {
   "cell_type": "code",
   "execution_count": 3,
   "id": "b8560411",
   "metadata": {
    "ExecuteTime": {
     "start_time": "2023-11-27T16:34:32.599113Z",
     "end_time": "2023-11-27T16:34:32.708054Z"
    }
   },
   "outputs": [],
   "source": [
    "tfidf_train_balanced_complete = pd.read_csv(os.path.join(csv_path, train['tfidf_sel'][0]), index_col=0)\n",
    "tfidf_test_balanced_complete = pd.read_csv(os.path.join(csv_path, test['tfidf_sel'][0]), index_col=0)"
   ]
  },
  {
   "cell_type": "code",
   "execution_count": 4,
   "id": "08db8205",
   "metadata": {
    "ExecuteTime": {
     "start_time": "2023-11-27T16:34:32.713051Z",
     "end_time": "2023-11-27T16:34:32.725139Z"
    }
   },
   "outputs": [],
   "source": [
    "tfidf_train_balanced = separate_features_target(tfidf_train_balanced_complete)\n",
    "tfidf_test_balanced = separate_features_target(tfidf_test_balanced_complete)"
   ]
  },
  {
   "cell_type": "markdown",
   "id": "0a99e597",
   "metadata": {},
   "source": [
    "### Logistic Regression"
   ]
  },
  {
   "cell_type": "code",
   "execution_count": 5,
   "id": "456aa7a0",
   "metadata": {
    "ExecuteTime": {
     "start_time": "2023-11-27T16:34:32.728135Z",
     "end_time": "2023-11-27T16:34:32.832217Z"
    },
    "scrolled": true
   },
   "outputs": [
    {
     "name": "stdout",
     "output_type": "stream",
     "text": [
      "Train accuracy: 0.9961685823754789\n"
     ]
    }
   ],
   "source": [
    "lr_tfidf_balanced = ml.train_logistic_regression(tfidf_train_balanced['features'], tfidf_train_balanced['target'], show_train_accuracy=1)\n",
    "lr_tfidf_balanced, lr_tfidf_balanced_scaler = lr_tfidf_balanced['model'], lr_tfidf_balanced['scaler']"
   ]
  },
  {
   "cell_type": "markdown",
   "id": "1ee787fe",
   "metadata": {},
   "source": [
    "### Decision Tree"
   ]
  },
  {
   "cell_type": "code",
   "execution_count": 6,
   "id": "7c503ca0",
   "metadata": {
    "ExecuteTime": {
     "start_time": "2023-11-27T16:34:32.835215Z",
     "end_time": "2023-11-27T16:34:32.894262Z"
    },
    "scrolled": true
   },
   "outputs": [
    {
     "name": "stdout",
     "output_type": "stream",
     "text": [
      "Train accuracy: 0.955067920585162\n"
     ]
    }
   ],
   "source": [
    "dt_tfidf_balanced = ml.train_decision_tree(tfidf_train_balanced['features'], tfidf_train_balanced['target'], show_train_accuracy=1)"
   ]
  },
  {
   "cell_type": "markdown",
   "id": "75920ffc",
   "metadata": {},
   "source": [
    "### Random Forest"
   ]
  },
  {
   "cell_type": "code",
   "execution_count": 7,
   "id": "a3d5ddab",
   "metadata": {
    "ExecuteTime": {
     "start_time": "2023-11-27T16:34:32.900259Z",
     "end_time": "2023-11-27T16:34:32.974221Z"
    },
    "scrolled": true
   },
   "outputs": [
    {
     "name": "stdout",
     "output_type": "stream",
     "text": [
      "Train accuracy: 0.9533263671194706\n"
     ]
    }
   ],
   "source": [
    "rf_tfidf_balanced = ml.train_random_forest(tfidf_train_balanced['features'], tfidf_train_balanced['target'], show_train_accuracy=1)"
   ]
  },
  {
   "cell_type": "markdown",
   "id": "c5fcc748",
   "metadata": {},
   "source": [
    "### Gradient Boosting Tree"
   ]
  },
  {
   "cell_type": "code",
   "execution_count": 8,
   "id": "c0b056d5",
   "metadata": {
    "ExecuteTime": {
     "start_time": "2023-11-27T16:34:32.973220Z",
     "end_time": "2023-11-27T16:34:34.718926Z"
    },
    "scrolled": true
   },
   "outputs": [
    {
     "name": "stdout",
     "output_type": "stream",
     "text": [
      "Train accuracy: 0.9846743295019157\n"
     ]
    }
   ],
   "source": [
    "gb_tfidf_balanced = ml.train_gradient_boost(tfidf_train_balanced['features'], tfidf_train_balanced['target'], show_train_accuracy=1)"
   ]
  },
  {
   "cell_type": "markdown",
   "id": "f1eb54d7",
   "metadata": {},
   "source": [
    "### Naive Bayes"
   ]
  },
  {
   "cell_type": "code",
   "execution_count": 9,
   "id": "1c32bf84",
   "metadata": {
    "ExecuteTime": {
     "start_time": "2023-11-27T16:34:34.721940Z",
     "end_time": "2023-11-27T16:34:34.769249Z"
    },
    "scrolled": false
   },
   "outputs": [
    {
     "name": "stdout",
     "output_type": "stream",
     "text": [
      "Train accuracy: 0.9606408916753745\n"
     ]
    }
   ],
   "source": [
    "nb_tfidf_balanced = ml.train_naive_bayes(tfidf_train_balanced['features'], tfidf_train_balanced['target'], show_train_accuracy=1)\n",
    "nb_tfidf_balanced, nb_tfidf_balanced_scaler = nb_tfidf_balanced['model'], nb_tfidf_balanced['scaler']"
   ]
  },
  {
   "cell_type": "markdown",
   "id": "3056e9da",
   "metadata": {},
   "source": [
    "## Train Word2Vec"
   ]
  },
  {
   "cell_type": "code",
   "execution_count": 10,
   "id": "511f87d5",
   "metadata": {
    "ExecuteTime": {
     "start_time": "2023-11-27T16:34:34.755238Z",
     "end_time": "2023-11-27T16:34:34.848285Z"
    }
   },
   "outputs": [],
   "source": [
    "word2vec_train_balanced_complete = pd.read_csv(os.path.join(csv_path, train['word2vec'][0]), index_col=0)\n",
    "word2vec_test_balanced_complete = pd.read_csv(os.path.join(csv_path, test['word2vec'][0]), index_col=0)"
   ]
  },
  {
   "cell_type": "code",
   "execution_count": 11,
   "id": "ab496a2a",
   "metadata": {
    "ExecuteTime": {
     "start_time": "2023-11-27T16:34:34.849302Z",
     "end_time": "2023-11-27T16:34:34.862365Z"
    }
   },
   "outputs": [],
   "source": [
    "word2vec_train_balanced = separate_features_target(word2vec_train_balanced_complete)\n",
    "word2vec_test_balanced = separate_features_target(word2vec_test_balanced_complete)"
   ]
  },
  {
   "cell_type": "markdown",
   "id": "d20916f3",
   "metadata": {},
   "source": [
    "### Logistic Regression"
   ]
  },
  {
   "cell_type": "code",
   "execution_count": 12,
   "id": "d1695d1a",
   "metadata": {
    "ExecuteTime": {
     "start_time": "2023-11-27T16:34:34.865351Z",
     "end_time": "2023-11-27T16:34:35.317371Z"
    },
    "scrolled": true
   },
   "outputs": [
    {
     "name": "stdout",
     "output_type": "stream",
     "text": [
      "Train accuracy: 0.9961685823754789\n"
     ]
    },
    {
     "name": "stderr",
     "output_type": "stream",
     "text": [
      "C:\\Users\\13636\\.conda\\envs\\p38phish\\lib\\site-packages\\sklearn\\linear_model\\_logistic.py:444: ConvergenceWarning: lbfgs failed to converge (status=1):\n",
      "STOP: TOTAL NO. of ITERATIONS REACHED LIMIT.\n",
      "\n",
      "Increase the number of iterations (max_iter) or scale the data as shown in:\n",
      "    https://scikit-learn.org/stable/modules/preprocessing.html\n",
      "Please also refer to the documentation for alternative solver options:\n",
      "    https://scikit-learn.org/stable/modules/linear_model.html#logistic-regression\n",
      "  n_iter_i = _check_optimize_result(\n"
     ]
    }
   ],
   "source": [
    "lr_word2vec_balanced = ml.train_logistic_regression(word2vec_train_balanced['features'], word2vec_train_balanced['target'], show_train_accuracy=1)\n",
    "lr_word2vec_balanced, lr_word2vec_balanced_scaler = lr_word2vec_balanced['model'], lr_word2vec_balanced['scaler']"
   ]
  },
  {
   "cell_type": "markdown",
   "id": "056f7f52",
   "metadata": {},
   "source": [
    "### Decision Tree"
   ]
  },
  {
   "cell_type": "code",
   "execution_count": 13,
   "id": "52ef191a",
   "metadata": {
    "ExecuteTime": {
     "start_time": "2023-11-27T16:34:35.322387Z",
     "end_time": "2023-11-27T16:34:35.461370Z"
    },
    "scrolled": true
   },
   "outputs": [
    {
     "name": "stdout",
     "output_type": "stream",
     "text": [
      "Train accuracy: 0.9791013584117032\n"
     ]
    }
   ],
   "source": [
    "dt_word2vec_balanced = ml.train_decision_tree(word2vec_train_balanced['features'], word2vec_train_balanced['target'], show_train_accuracy=1)"
   ]
  },
  {
   "cell_type": "markdown",
   "id": "e41879b7",
   "metadata": {},
   "source": [
    "### Random Forest"
   ]
  },
  {
   "cell_type": "code",
   "execution_count": 14,
   "id": "46f2cf27",
   "metadata": {
    "ExecuteTime": {
     "start_time": "2023-11-27T16:34:35.467369Z",
     "end_time": "2023-11-27T16:34:35.663520Z"
    },
    "scrolled": true
   },
   "outputs": [
    {
     "name": "stdout",
     "output_type": "stream",
     "text": [
      "Train accuracy: 0.985022640195054\n"
     ]
    }
   ],
   "source": [
    "rf_word2vec_balanced = ml.train_random_forest(word2vec_train_balanced['features'], word2vec_train_balanced['target'], show_train_accuracy=1)"
   ]
  },
  {
   "cell_type": "markdown",
   "id": "c951e241",
   "metadata": {},
   "source": [
    "### Gradient Boosting Tree"
   ]
  },
  {
   "cell_type": "code",
   "execution_count": 15,
   "id": "1551be7a",
   "metadata": {
    "ExecuteTime": {
     "start_time": "2023-11-27T16:34:35.664464Z",
     "end_time": "2023-11-27T16:34:41.503462Z"
    },
    "scrolled": true
   },
   "outputs": [
    {
     "name": "stdout",
     "output_type": "stream",
     "text": [
      "Train accuracy: 0.9979101358411703\n"
     ]
    }
   ],
   "source": [
    "gb_word2vec_balanced = ml.train_gradient_boost(word2vec_train_balanced['features'], word2vec_train_balanced['target'], show_train_accuracy=1)"
   ]
  },
  {
   "cell_type": "markdown",
   "id": "30870fdd",
   "metadata": {},
   "source": [
    "### Naive Bayes"
   ]
  },
  {
   "cell_type": "code",
   "execution_count": 16,
   "id": "2c563aa5",
   "metadata": {
    "ExecuteTime": {
     "start_time": "2023-11-27T16:34:41.506449Z",
     "end_time": "2023-11-27T16:34:41.556421Z"
    },
    "scrolled": false
   },
   "outputs": [
    {
     "name": "stdout",
     "output_type": "stream",
     "text": [
      "Train accuracy: 0.955067920585162\n"
     ]
    }
   ],
   "source": [
    "nb_word2vec_balanced = ml.train_naive_bayes(word2vec_train_balanced['features'], word2vec_train_balanced['target'], remove_negatives=True, show_train_accuracy=1)\n",
    "nb_word2vec_balanced, nb_word2vec_balanced_scaler = nb_word2vec_balanced['model'], nb_word2vec_balanced['scaler']"
   ]
  },
  {
   "cell_type": "markdown",
   "id": "a79b4ce5",
   "metadata": {},
   "source": [
    "## Results"
   ]
  },
  {
   "cell_type": "markdown",
   "id": "ec76bf94",
   "metadata": {},
   "source": [
    "### TF-IDF"
   ]
  },
  {
   "cell_type": "code",
   "execution_count": 17,
   "id": "f38f957c",
   "metadata": {
    "ExecuteTime": {
     "start_time": "2023-11-27T16:34:41.540431Z",
     "end_time": "2023-11-27T16:34:41.556421Z"
    }
   },
   "outputs": [],
   "source": [
    "models = [lr_tfidf_balanced, dt_tfidf_balanced, rf_tfidf_balanced, gb_tfidf_balanced, nb_tfidf_balanced]\n",
    "names = ['Logistic Regression', 'Decision Tree', 'Random Forest', 'Gradient Boosting Tree', 'Naive Bayes']"
   ]
  },
  {
   "cell_type": "code",
   "execution_count": 18,
   "id": "3090c409",
   "metadata": {
    "ExecuteTime": {
     "start_time": "2023-11-27T16:34:41.554423Z",
     "end_time": "2023-11-27T16:34:41.649369Z"
    }
   },
   "outputs": [],
   "source": [
    "results_tfidf = ml.multi_model_results(models, names, tfidf_test_balanced['features'], tfidf_test_balanced['target'], lr_tfidf_balanced_scaler, nb_tfidf_balanced_scaler)"
   ]
  },
  {
   "cell_type": "code",
   "execution_count": 19,
   "id": "808e6cbb",
   "metadata": {
    "ExecuteTime": {
     "start_time": "2023-11-27T16:34:41.649369Z",
     "end_time": "2023-11-27T16:34:41.698344Z"
    },
    "scrolled": true
   },
   "outputs": [
    {
     "data": {
      "text/plain": "                        Accuracy  Precision    Recall  F1 Score  \\\nLogistic Regression     0.956825   0.955000  0.967089  0.961006   \nDecision Tree           0.958217   0.946210  0.979747  0.962687   \nRandom Forest           0.965181   0.951220  0.987342  0.968944   \nGradient Boosting Tree  0.973538   0.963054  0.989873  0.976280   \nNaive Bayes             0.965181   0.953431  0.984810  0.968867   \n\n                        False Positive Rate  False Negative Rate  \\\nLogistic Regression                0.055728             0.032911   \nDecision Tree                      0.068111             0.020253   \nRandom Forest                      0.061920             0.012658   \nGradient Boosting Tree             0.046440             0.010127   \nNaive Bayes                        0.058824             0.015190   \n\n                        Area Under ROC Curve  \nLogistic Regression                 0.968958  \nDecision Tree                       0.968096  \nRandom Forest                       0.991073  \nGradient Boosting Tree              0.997562  \nNaive Bayes                         0.996312  ",
      "text/html": "<div>\n<style scoped>\n    .dataframe tbody tr th:only-of-type {\n        vertical-align: middle;\n    }\n\n    .dataframe tbody tr th {\n        vertical-align: top;\n    }\n\n    .dataframe thead th {\n        text-align: right;\n    }\n</style>\n<table border=\"1\" class=\"dataframe\">\n  <thead>\n    <tr style=\"text-align: right;\">\n      <th></th>\n      <th>Accuracy</th>\n      <th>Precision</th>\n      <th>Recall</th>\n      <th>F1 Score</th>\n      <th>False Positive Rate</th>\n      <th>False Negative Rate</th>\n      <th>Area Under ROC Curve</th>\n    </tr>\n  </thead>\n  <tbody>\n    <tr>\n      <th>Logistic Regression</th>\n      <td>0.956825</td>\n      <td>0.955000</td>\n      <td>0.967089</td>\n      <td>0.961006</td>\n      <td>0.055728</td>\n      <td>0.032911</td>\n      <td>0.968958</td>\n    </tr>\n    <tr>\n      <th>Decision Tree</th>\n      <td>0.958217</td>\n      <td>0.946210</td>\n      <td>0.979747</td>\n      <td>0.962687</td>\n      <td>0.068111</td>\n      <td>0.020253</td>\n      <td>0.968096</td>\n    </tr>\n    <tr>\n      <th>Random Forest</th>\n      <td>0.965181</td>\n      <td>0.951220</td>\n      <td>0.987342</td>\n      <td>0.968944</td>\n      <td>0.061920</td>\n      <td>0.012658</td>\n      <td>0.991073</td>\n    </tr>\n    <tr>\n      <th>Gradient Boosting Tree</th>\n      <td>0.973538</td>\n      <td>0.963054</td>\n      <td>0.989873</td>\n      <td>0.976280</td>\n      <td>0.046440</td>\n      <td>0.010127</td>\n      <td>0.997562</td>\n    </tr>\n    <tr>\n      <th>Naive Bayes</th>\n      <td>0.965181</td>\n      <td>0.953431</td>\n      <td>0.984810</td>\n      <td>0.968867</td>\n      <td>0.058824</td>\n      <td>0.015190</td>\n      <td>0.996312</td>\n    </tr>\n  </tbody>\n</table>\n</div>"
     },
     "execution_count": 19,
     "metadata": {},
     "output_type": "execute_result"
    }
   ],
   "source": [
    "results_tfidf"
   ]
  },
  {
   "cell_type": "markdown",
   "id": "659f5c89",
   "metadata": {},
   "source": [
    "### Word2Vec"
   ]
  },
  {
   "cell_type": "code",
   "execution_count": 20,
   "id": "039ea068",
   "metadata": {
    "ExecuteTime": {
     "start_time": "2023-11-27T16:34:41.685351Z",
     "end_time": "2023-11-27T16:34:41.725328Z"
    }
   },
   "outputs": [],
   "source": [
    "models = [lr_word2vec_balanced, dt_word2vec_balanced, rf_word2vec_balanced, gb_word2vec_balanced, nb_word2vec_balanced]\n",
    "names = ['Logistic Regression', 'Decision Tree', 'Random Forest', 'Gradient Boosting Tree', 'Naive Bayes']"
   ]
  },
  {
   "cell_type": "code",
   "execution_count": 21,
   "id": "5da4a6a3",
   "metadata": {
    "ExecuteTime": {
     "start_time": "2023-11-27T16:34:41.699345Z",
     "end_time": "2023-11-27T16:34:41.803289Z"
    }
   },
   "outputs": [],
   "source": [
    "results_word2vec = ml.multi_model_results(models, names, word2vec_test_balanced['features'], word2vec_test_balanced['target'], lr_word2vec_balanced_scaler, nb_word2vec_balanced_scaler)"
   ]
  },
  {
   "cell_type": "code",
   "execution_count": 22,
   "id": "1aba61d3",
   "metadata": {
    "ExecuteTime": {
     "start_time": "2023-11-27T16:34:41.777301Z",
     "end_time": "2023-11-27T16:34:41.805287Z"
    },
    "scrolled": false
   },
   "outputs": [
    {
     "data": {
      "text/plain": "                        Accuracy  Precision    Recall  F1 Score  \\\nLogistic Regression     0.967967   0.960396  0.982278  0.971214   \nDecision Tree           0.965181   0.957921  0.979747  0.968711   \nRandom Forest           0.967967   0.960396  0.982278  0.971214   \nGradient Boosting Tree  0.980501   0.984733  0.979747  0.982234   \nNaive Bayes             0.961003   0.944310  0.987342  0.965347   \n\n                        False Positive Rate  False Negative Rate  \\\nLogistic Regression                0.049536             0.017722   \nDecision Tree                      0.052632             0.020253   \nRandom Forest                      0.049536             0.017722   \nGradient Boosting Tree             0.018576             0.020253   \nNaive Bayes                        0.071207             0.012658   \n\n                        Area Under ROC Curve  \nLogistic Regression                 0.991508  \nDecision Tree                       0.969264  \nRandom Forest                       0.997323  \nGradient Boosting Tree              0.997676  \nNaive Bayes                         0.992205  ",
      "text/html": "<div>\n<style scoped>\n    .dataframe tbody tr th:only-of-type {\n        vertical-align: middle;\n    }\n\n    .dataframe tbody tr th {\n        vertical-align: top;\n    }\n\n    .dataframe thead th {\n        text-align: right;\n    }\n</style>\n<table border=\"1\" class=\"dataframe\">\n  <thead>\n    <tr style=\"text-align: right;\">\n      <th></th>\n      <th>Accuracy</th>\n      <th>Precision</th>\n      <th>Recall</th>\n      <th>F1 Score</th>\n      <th>False Positive Rate</th>\n      <th>False Negative Rate</th>\n      <th>Area Under ROC Curve</th>\n    </tr>\n  </thead>\n  <tbody>\n    <tr>\n      <th>Logistic Regression</th>\n      <td>0.967967</td>\n      <td>0.960396</td>\n      <td>0.982278</td>\n      <td>0.971214</td>\n      <td>0.049536</td>\n      <td>0.017722</td>\n      <td>0.991508</td>\n    </tr>\n    <tr>\n      <th>Decision Tree</th>\n      <td>0.965181</td>\n      <td>0.957921</td>\n      <td>0.979747</td>\n      <td>0.968711</td>\n      <td>0.052632</td>\n      <td>0.020253</td>\n      <td>0.969264</td>\n    </tr>\n    <tr>\n      <th>Random Forest</th>\n      <td>0.967967</td>\n      <td>0.960396</td>\n      <td>0.982278</td>\n      <td>0.971214</td>\n      <td>0.049536</td>\n      <td>0.017722</td>\n      <td>0.997323</td>\n    </tr>\n    <tr>\n      <th>Gradient Boosting Tree</th>\n      <td>0.980501</td>\n      <td>0.984733</td>\n      <td>0.979747</td>\n      <td>0.982234</td>\n      <td>0.018576</td>\n      <td>0.020253</td>\n      <td>0.997676</td>\n    </tr>\n    <tr>\n      <th>Naive Bayes</th>\n      <td>0.961003</td>\n      <td>0.944310</td>\n      <td>0.987342</td>\n      <td>0.965347</td>\n      <td>0.071207</td>\n      <td>0.012658</td>\n      <td>0.992205</td>\n    </tr>\n  </tbody>\n</table>\n</div>"
     },
     "execution_count": 22,
     "metadata": {},
     "output_type": "execute_result"
    }
   ],
   "source": [
    "results_word2vec"
   ]
  },
  {
   "cell_type": "markdown",
   "id": "443c6def",
   "metadata": {},
   "source": [
    "# Imbalanced Dataset"
   ]
  },
  {
   "cell_type": "markdown",
   "id": "697dfd09",
   "metadata": {},
   "source": [
    "## Train TF-IDF"
   ]
  },
  {
   "cell_type": "code",
   "execution_count": 23,
   "id": "ab0cc2f8",
   "metadata": {
    "ExecuteTime": {
     "start_time": "2023-11-27T16:34:41.794292Z",
     "end_time": "2023-11-27T16:34:42.472925Z"
    }
   },
   "outputs": [],
   "source": [
    "tfidf_train_imbalanced_complete = pd.read_csv(os.path.join(csv_path, train['tfidf_sel'][1]), index_col=0)\n",
    "tfidf_test_imbalanced_complete = pd.read_csv(os.path.join(csv_path, test['tfidf_sel'][1]), index_col=0)"
   ]
  },
  {
   "cell_type": "code",
   "execution_count": 24,
   "id": "5e04f65c",
   "metadata": {
    "ExecuteTime": {
     "start_time": "2023-11-27T16:34:42.447941Z",
     "end_time": "2023-11-27T16:34:42.477923Z"
    }
   },
   "outputs": [],
   "source": [
    "tfidf_train_imbalanced = separate_features_target(tfidf_train_imbalanced_complete)\n",
    "tfidf_test_imbalanced = separate_features_target(tfidf_test_imbalanced_complete)"
   ]
  },
  {
   "cell_type": "markdown",
   "id": "2b4d2cd1",
   "metadata": {},
   "source": [
    "### Logistic Regression"
   ]
  },
  {
   "cell_type": "code",
   "execution_count": 25,
   "id": "b31b7985",
   "metadata": {
    "ExecuteTime": {
     "start_time": "2023-11-27T16:34:42.479921Z",
     "end_time": "2023-11-27T16:34:48.487677Z"
    },
    "scrolled": true
   },
   "outputs": [
    {
     "name": "stdout",
     "output_type": "stream",
     "text": [
      "Train accuracy: 0.9920555444288671\n"
     ]
    },
    {
     "name": "stderr",
     "output_type": "stream",
     "text": [
      "C:\\Users\\13636\\.conda\\envs\\p38phish\\lib\\site-packages\\sklearn\\linear_model\\_logistic.py:444: ConvergenceWarning: lbfgs failed to converge (status=1):\n",
      "STOP: TOTAL NO. of ITERATIONS REACHED LIMIT.\n",
      "\n",
      "Increase the number of iterations (max_iter) or scale the data as shown in:\n",
      "    https://scikit-learn.org/stable/modules/preprocessing.html\n",
      "Please also refer to the documentation for alternative solver options:\n",
      "    https://scikit-learn.org/stable/modules/linear_model.html#logistic-regression\n",
      "  n_iter_i = _check_optimize_result(\n"
     ]
    }
   ],
   "source": [
    "lr_tfidf_imbalanced = ml.train_logistic_regression(tfidf_train_imbalanced['features'], tfidf_train_imbalanced['target'], show_train_accuracy=1)\n",
    "lr_tfidf_imbalanced, lr_tfidf_imbalanced_scaler= lr_tfidf_imbalanced['model'], lr_tfidf_imbalanced['scaler']"
   ]
  },
  {
   "cell_type": "markdown",
   "id": "18eb5ca4",
   "metadata": {},
   "source": [
    "### Decision Tree"
   ]
  },
  {
   "cell_type": "code",
   "execution_count": 26,
   "id": "e25ea614",
   "metadata": {
    "ExecuteTime": {
     "start_time": "2023-11-27T16:34:48.490675Z",
     "end_time": "2023-11-27T16:34:48.755532Z"
    },
    "scrolled": true
   },
   "outputs": [
    {
     "name": "stdout",
     "output_type": "stream",
     "text": [
      "Train accuracy: 0.963749248948528\n"
     ]
    }
   ],
   "source": [
    "dt_tfidf_imbalanced = ml.train_decision_tree(tfidf_train_imbalanced['features'], tfidf_train_imbalanced['target'], show_train_accuracy=1)"
   ]
  },
  {
   "cell_type": "markdown",
   "id": "521655cd",
   "metadata": {},
   "source": [
    "### Random Forest"
   ]
  },
  {
   "cell_type": "code",
   "execution_count": 27,
   "id": "bee84f70",
   "metadata": {
    "ExecuteTime": {
     "start_time": "2023-11-27T16:34:48.758544Z",
     "end_time": "2023-11-27T16:34:49.054377Z"
    },
    "scrolled": true
   },
   "outputs": [
    {
     "name": "stdout",
     "output_type": "stream",
     "text": [
      "Train accuracy: 0.9495293410775085\n"
     ]
    }
   ],
   "source": [
    "rf_tfidf_imbalanced = ml.train_random_forest(tfidf_train_imbalanced['features'], tfidf_train_imbalanced['target'], show_train_accuracy=1)"
   ]
  },
  {
   "cell_type": "markdown",
   "id": "15e89d17",
   "metadata": {},
   "source": [
    "### Gradient Boosting Tree"
   ]
  },
  {
   "cell_type": "code",
   "execution_count": 28,
   "id": "1c558739",
   "metadata": {
    "ExecuteTime": {
     "start_time": "2023-11-27T16:34:49.057368Z",
     "end_time": "2023-11-27T16:35:01.273974Z"
    },
    "scrolled": true
   },
   "outputs": [
    {
     "name": "stdout",
     "output_type": "stream",
     "text": [
      "Train accuracy: 0.9863141731757794\n"
     ]
    }
   ],
   "source": [
    "gb_tfidf_imbalanced = ml.train_gradient_boost(tfidf_train_imbalanced['features'], tfidf_train_imbalanced['target'], show_train_accuracy=1)"
   ]
  },
  {
   "cell_type": "markdown",
   "id": "5bca4e74",
   "metadata": {},
   "source": [
    "### Naive Bayes"
   ]
  },
  {
   "cell_type": "code",
   "execution_count": 29,
   "id": "c4a63326",
   "metadata": {
    "ExecuteTime": {
     "start_time": "2023-11-27T16:35:01.275973Z",
     "end_time": "2023-11-27T16:35:01.337939Z"
    },
    "scrolled": true
   },
   "outputs": [
    {
     "name": "stdout",
     "output_type": "stream",
     "text": [
      "Train accuracy: 0.9728953868749582\n"
     ]
    }
   ],
   "source": [
    "nb_tfidf_imbalanced = ml.train_naive_bayes(tfidf_train_imbalanced['features'], tfidf_train_imbalanced['target'], show_train_accuracy=1)\n",
    "nb_tfidf_imbalanced, nb_tfidf_imbalanced_scaler = nb_tfidf_imbalanced['model'], nb_tfidf_imbalanced['scaler']"
   ]
  },
  {
   "cell_type": "markdown",
   "id": "284d6c45",
   "metadata": {},
   "source": [
    "## Train Word2Vec"
   ]
  },
  {
   "cell_type": "code",
   "execution_count": 30,
   "id": "7565a706",
   "metadata": {
    "ExecuteTime": {
     "start_time": "2023-11-27T16:35:01.322949Z",
     "end_time": "2023-11-27T16:35:01.822676Z"
    }
   },
   "outputs": [],
   "source": [
    "word2vec_train_imbalanced_complete = pd.read_csv(os.path.join(csv_path, train['word2vec'][1]), index_col=0)\n",
    "word2vec_test_imbalanced_complete = pd.read_csv(os.path.join(csv_path, test['word2vec'][1]), index_col=0)"
   ]
  },
  {
   "cell_type": "code",
   "execution_count": 31,
   "id": "a5d62c2e",
   "metadata": {
    "ExecuteTime": {
     "start_time": "2023-11-27T16:35:01.825677Z",
     "end_time": "2023-11-27T16:35:01.840668Z"
    }
   },
   "outputs": [],
   "source": [
    "word2vec_train_imbalanced = separate_features_target(word2vec_train_imbalanced_complete)\n",
    "word2vec_test_imbalanced = separate_features_target(word2vec_test_imbalanced_complete)"
   ]
  },
  {
   "cell_type": "markdown",
   "id": "e1c5dffe",
   "metadata": {},
   "source": [
    "### Logistic Regression"
   ]
  },
  {
   "cell_type": "code",
   "execution_count": 32,
   "id": "1101e16f",
   "metadata": {
    "ExecuteTime": {
     "start_time": "2023-11-27T16:35:01.841668Z",
     "end_time": "2023-11-27T16:35:02.304418Z"
    },
    "scrolled": true
   },
   "outputs": [
    {
     "name": "stdout",
     "output_type": "stream",
     "text": [
      "Train accuracy: 0.9912544228586688\n"
     ]
    }
   ],
   "source": [
    "lr_word2vec_imbalanced = ml.train_logistic_regression(word2vec_train_imbalanced['features'], word2vec_train_imbalanced['target'], show_train_accuracy=1)\n",
    "lr_word2vec_imbalanced, lr_word2vec_imbalanced_scaler= lr_word2vec_imbalanced['model'], lr_word2vec_imbalanced['scaler']"
   ]
  },
  {
   "cell_type": "markdown",
   "id": "a9e3e5b5",
   "metadata": {},
   "source": [
    "### Decision Tree"
   ]
  },
  {
   "cell_type": "code",
   "execution_count": 33,
   "id": "d8933f40",
   "metadata": {
    "ExecuteTime": {
     "start_time": "2023-11-27T16:35:02.306416Z",
     "end_time": "2023-11-27T16:35:03.073036Z"
    },
    "scrolled": true
   },
   "outputs": [
    {
     "name": "stdout",
     "output_type": "stream",
     "text": [
      "Train accuracy: 0.9799719607450431\n"
     ]
    }
   ],
   "source": [
    "dt_word2vec_imbalanced = ml.train_decision_tree(word2vec_train_imbalanced['features'], word2vec_train_imbalanced['target'], show_train_accuracy=1)"
   ]
  },
  {
   "cell_type": "markdown",
   "id": "93ab7bda",
   "metadata": {},
   "source": [
    "### Random Forest"
   ]
  },
  {
   "cell_type": "code",
   "execution_count": 34,
   "id": "da2b6803",
   "metadata": {
    "ExecuteTime": {
     "start_time": "2023-11-27T16:35:03.077000Z",
     "end_time": "2023-11-27T16:35:04.101466Z"
    },
    "scrolled": true
   },
   "outputs": [
    {
     "name": "stdout",
     "output_type": "stream",
     "text": [
      "Train accuracy: 0.9850457306896322\n"
     ]
    }
   ],
   "source": [
    "rf_word2vec_imbalanced = ml.train_random_forest(word2vec_train_imbalanced['features'], word2vec_train_imbalanced['target'], show_train_accuracy=1)"
   ]
  },
  {
   "cell_type": "markdown",
   "id": "f59ae3f3",
   "metadata": {},
   "source": [
    "### Gradient Boosting Tree"
   ]
  },
  {
   "cell_type": "code",
   "execution_count": 35,
   "id": "660e52f3",
   "metadata": {
    "ExecuteTime": {
     "start_time": "2023-11-27T16:35:04.091453Z",
     "end_time": "2023-11-27T16:35:41.604297Z"
    },
    "scrolled": true
   },
   "outputs": [
    {
     "name": "stdout",
     "output_type": "stream",
     "text": [
      "Train accuracy: 0.9945256692703117\n"
     ]
    }
   ],
   "source": [
    "gb_word2vec_imbalanced = ml.train_gradient_boost(word2vec_train_imbalanced['features'], word2vec_train_imbalanced['target'], show_train_accuracy=1)"
   ]
  },
  {
   "cell_type": "markdown",
   "id": "48e06f32",
   "metadata": {},
   "source": [
    "### Naive Bayes"
   ]
  },
  {
   "cell_type": "code",
   "execution_count": 36,
   "id": "ad936feb",
   "metadata": {
    "ExecuteTime": {
     "start_time": "2023-11-27T16:35:41.606299Z",
     "end_time": "2023-11-27T16:35:41.682319Z"
    },
    "scrolled": true
   },
   "outputs": [
    {
     "name": "stdout",
     "output_type": "stream",
     "text": [
      "Train accuracy: 0.898591361239068\n"
     ]
    }
   ],
   "source": [
    "nb_word2vec_imbalanced = ml.train_naive_bayes(word2vec_train_imbalanced['features'], word2vec_train_imbalanced['target'], remove_negatives=True, show_train_accuracy=1)\n",
    "nb_word2vec_imbalanced, nb_word2vec_imbalanced_scaler = nb_word2vec_imbalanced['model'], nb_word2vec_imbalanced['scaler']"
   ]
  },
  {
   "cell_type": "markdown",
   "id": "68350090",
   "metadata": {},
   "source": [
    "## Results"
   ]
  },
  {
   "cell_type": "markdown",
   "id": "fbf92efc",
   "metadata": {},
   "source": [
    "### TF-IDF"
   ]
  },
  {
   "cell_type": "code",
   "execution_count": 37,
   "id": "fb488524",
   "metadata": {
    "ExecuteTime": {
     "start_time": "2023-11-27T16:35:41.666599Z",
     "end_time": "2023-11-27T16:35:41.683318Z"
    }
   },
   "outputs": [],
   "source": [
    "models = [lr_tfidf_imbalanced, dt_tfidf_imbalanced, rf_tfidf_imbalanced, gb_tfidf_imbalanced, nb_tfidf_imbalanced]\n",
    "names = ['Logistic Regression', 'Decision Tree', 'Random Forest', 'Gradient Boosting Tree', 'Naive Bayes']"
   ]
  },
  {
   "cell_type": "code",
   "execution_count": 38,
   "id": "2035ce5a",
   "metadata": {
    "ExecuteTime": {
     "start_time": "2023-11-27T16:35:41.683318Z",
     "end_time": "2023-11-27T16:35:41.821374Z"
    }
   },
   "outputs": [],
   "source": [
    "results_tfidf_imbalanced = ml.multi_model_results(models, names, tfidf_test_imbalanced['features'], tfidf_test_imbalanced['target'], lr_tfidf_imbalanced_scaler, nb_tfidf_imbalanced_scaler)"
   ]
  },
  {
   "cell_type": "code",
   "execution_count": 39,
   "id": "8a508641",
   "metadata": {
    "ExecuteTime": {
     "start_time": "2023-11-27T16:35:41.824372Z",
     "end_time": "2023-11-27T16:35:41.837143Z"
    },
    "scrolled": false
   },
   "outputs": [
    {
     "data": {
      "text/plain": "                        Accuracy  Precision    Recall  F1 Score  \\\nLogistic Regression     0.987183   0.938619  0.938619  0.938619   \nDecision Tree           0.957009   0.838235  0.728900  0.779754   \nRandom Forest           0.948732   1.000000  0.508951  0.674576   \nGradient Boosting Tree  0.983178   0.965909  0.869565  0.915209   \nNaive Bayes             0.972764   0.914040  0.815857  0.862162   \n\n                        False Positive Rate  False Negative Rate  \\\nLogistic Regression                0.007156             0.061381   \nDecision Tree                      0.016398             0.271100   \nRandom Forest                      0.000000             0.491049   \nGradient Boosting Tree             0.003578             0.130435   \nNaive Bayes                        0.008945             0.184143   \n\n                        Area Under ROC Curve  \nLogistic Regression                 0.996527  \nDecision Tree                       0.962095  \nRandom Forest                       0.986497  \nGradient Boosting Tree              0.993025  \nNaive Bayes                         0.993403  ",
      "text/html": "<div>\n<style scoped>\n    .dataframe tbody tr th:only-of-type {\n        vertical-align: middle;\n    }\n\n    .dataframe tbody tr th {\n        vertical-align: top;\n    }\n\n    .dataframe thead th {\n        text-align: right;\n    }\n</style>\n<table border=\"1\" class=\"dataframe\">\n  <thead>\n    <tr style=\"text-align: right;\">\n      <th></th>\n      <th>Accuracy</th>\n      <th>Precision</th>\n      <th>Recall</th>\n      <th>F1 Score</th>\n      <th>False Positive Rate</th>\n      <th>False Negative Rate</th>\n      <th>Area Under ROC Curve</th>\n    </tr>\n  </thead>\n  <tbody>\n    <tr>\n      <th>Logistic Regression</th>\n      <td>0.987183</td>\n      <td>0.938619</td>\n      <td>0.938619</td>\n      <td>0.938619</td>\n      <td>0.007156</td>\n      <td>0.061381</td>\n      <td>0.996527</td>\n    </tr>\n    <tr>\n      <th>Decision Tree</th>\n      <td>0.957009</td>\n      <td>0.838235</td>\n      <td>0.728900</td>\n      <td>0.779754</td>\n      <td>0.016398</td>\n      <td>0.271100</td>\n      <td>0.962095</td>\n    </tr>\n    <tr>\n      <th>Random Forest</th>\n      <td>0.948732</td>\n      <td>1.000000</td>\n      <td>0.508951</td>\n      <td>0.674576</td>\n      <td>0.000000</td>\n      <td>0.491049</td>\n      <td>0.986497</td>\n    </tr>\n    <tr>\n      <th>Gradient Boosting Tree</th>\n      <td>0.983178</td>\n      <td>0.965909</td>\n      <td>0.869565</td>\n      <td>0.915209</td>\n      <td>0.003578</td>\n      <td>0.130435</td>\n      <td>0.993025</td>\n    </tr>\n    <tr>\n      <th>Naive Bayes</th>\n      <td>0.972764</td>\n      <td>0.914040</td>\n      <td>0.815857</td>\n      <td>0.862162</td>\n      <td>0.008945</td>\n      <td>0.184143</td>\n      <td>0.993403</td>\n    </tr>\n  </tbody>\n</table>\n</div>"
     },
     "execution_count": 39,
     "metadata": {},
     "output_type": "execute_result"
    }
   ],
   "source": [
    "results_tfidf_imbalanced"
   ]
  },
  {
   "cell_type": "markdown",
   "id": "5517f31e",
   "metadata": {},
   "source": [
    "### Word2Vec"
   ]
  },
  {
   "cell_type": "code",
   "execution_count": 40,
   "id": "4c76965f",
   "metadata": {
    "ExecuteTime": {
     "start_time": "2023-11-27T16:35:41.840131Z",
     "end_time": "2023-11-27T16:35:41.870667Z"
    }
   },
   "outputs": [],
   "source": [
    "models = [lr_word2vec_imbalanced, dt_word2vec_imbalanced, rf_word2vec_imbalanced, gb_word2vec_imbalanced, nb_word2vec_imbalanced]\n",
    "names = ['Logistic Regression', 'Decision Tree', 'Random Forest', 'Gradient Boosting Tree', 'Naive Bayes']"
   ]
  },
  {
   "cell_type": "code",
   "execution_count": 41,
   "id": "f9744de6",
   "metadata": {
    "ExecuteTime": {
     "start_time": "2023-11-27T16:35:41.860664Z",
     "end_time": "2023-11-27T16:35:42.038679Z"
    }
   },
   "outputs": [
    {
     "name": "stderr",
     "output_type": "stream",
     "text": [
      "C:\\Users\\13636\\.conda\\envs\\p38phish\\lib\\site-packages\\sklearn\\metrics\\_classification.py:1334: UndefinedMetricWarning: Precision is ill-defined and being set to 0.0 due to no predicted samples. Use `zero_division` parameter to control this behavior.\n",
      "  _warn_prf(average, modifier, msg_start, len(result))\n"
     ]
    }
   ],
   "source": [
    "results_word2vec_imbalanced = ml.multi_model_results(models, names, word2vec_test_imbalanced['features'], word2vec_test_imbalanced['target'], lr_word2vec_imbalanced_scaler, nb_word2vec_imbalanced_scaler)"
   ]
  },
  {
   "cell_type": "code",
   "execution_count": 42,
   "id": "c88eee36",
   "metadata": {
    "ExecuteTime": {
     "start_time": "2023-11-27T16:35:42.019625Z",
     "end_time": "2023-11-27T16:35:42.039681Z"
    },
    "scrolled": true
   },
   "outputs": [
    {
     "data": {
      "text/plain": "                        Accuracy  Precision    Recall  F1 Score  \\\nLogistic Regression     0.987450   0.967391  0.910486  0.938076   \nDecision Tree           0.977036   0.911051  0.864450  0.887139   \nRandom Forest           0.980507   0.976048  0.833760  0.899310   \nGradient Boosting Tree  0.985581   0.964187  0.895141  0.928382   \nNaive Bayes             0.895594   0.000000  0.000000  0.000000   \n\n                        False Positive Rate  False Negative Rate  \\\nLogistic Regression                0.003578             0.089514   \nDecision Tree                      0.009839             0.135550   \nRandom Forest                      0.002385             0.166240   \nGradient Boosting Tree             0.003876             0.104859   \nNaive Bayes                        0.000000             1.000000   \n\n                        Area Under ROC Curve  \nLogistic Regression                 0.996416  \nDecision Tree                       0.967751  \nRandom Forest                       0.996209  \nGradient Boosting Tree              0.997403  \nNaive Bayes                         0.987090  ",
      "text/html": "<div>\n<style scoped>\n    .dataframe tbody tr th:only-of-type {\n        vertical-align: middle;\n    }\n\n    .dataframe tbody tr th {\n        vertical-align: top;\n    }\n\n    .dataframe thead th {\n        text-align: right;\n    }\n</style>\n<table border=\"1\" class=\"dataframe\">\n  <thead>\n    <tr style=\"text-align: right;\">\n      <th></th>\n      <th>Accuracy</th>\n      <th>Precision</th>\n      <th>Recall</th>\n      <th>F1 Score</th>\n      <th>False Positive Rate</th>\n      <th>False Negative Rate</th>\n      <th>Area Under ROC Curve</th>\n    </tr>\n  </thead>\n  <tbody>\n    <tr>\n      <th>Logistic Regression</th>\n      <td>0.987450</td>\n      <td>0.967391</td>\n      <td>0.910486</td>\n      <td>0.938076</td>\n      <td>0.003578</td>\n      <td>0.089514</td>\n      <td>0.996416</td>\n    </tr>\n    <tr>\n      <th>Decision Tree</th>\n      <td>0.977036</td>\n      <td>0.911051</td>\n      <td>0.864450</td>\n      <td>0.887139</td>\n      <td>0.009839</td>\n      <td>0.135550</td>\n      <td>0.967751</td>\n    </tr>\n    <tr>\n      <th>Random Forest</th>\n      <td>0.980507</td>\n      <td>0.976048</td>\n      <td>0.833760</td>\n      <td>0.899310</td>\n      <td>0.002385</td>\n      <td>0.166240</td>\n      <td>0.996209</td>\n    </tr>\n    <tr>\n      <th>Gradient Boosting Tree</th>\n      <td>0.985581</td>\n      <td>0.964187</td>\n      <td>0.895141</td>\n      <td>0.928382</td>\n      <td>0.003876</td>\n      <td>0.104859</td>\n      <td>0.997403</td>\n    </tr>\n    <tr>\n      <th>Naive Bayes</th>\n      <td>0.895594</td>\n      <td>0.000000</td>\n      <td>0.000000</td>\n      <td>0.000000</td>\n      <td>0.000000</td>\n      <td>1.000000</td>\n      <td>0.987090</td>\n    </tr>\n  </tbody>\n</table>\n</div>"
     },
     "execution_count": 42,
     "metadata": {},
     "output_type": "execute_result"
    }
   ],
   "source": [
    "results_word2vec_imbalanced"
   ]
  },
  {
   "cell_type": "markdown",
   "id": "bca62cf7",
   "metadata": {},
   "source": [
    "# Specific emails"
   ]
  },
  {
   "cell_type": "markdown",
   "id": "72e091a0",
   "metadata": {},
   "source": [
    "It is possible to see the predictions of each algorithm with Word2Vec features (since those performed the best) for selected emails (some of which were also seen previously)."
   ]
  },
  {
   "cell_type": "code",
   "execution_count": 43,
   "id": "29c6e550",
   "metadata": {
    "ExecuteTime": {
     "start_time": "2023-11-27T16:35:42.027627Z",
     "end_time": "2023-11-27T16:35:42.041682Z"
    }
   },
   "outputs": [],
   "source": [
    "models = [lr_word2vec_balanced, dt_word2vec_balanced, rf_word2vec_balanced, gb_word2vec_balanced, nb_word2vec_balanced]\n",
    "names = ['Logistic Regression', 'Decision Tree', 'Random Forest', 'Gradient Boosting Tree', 'Naive Bayes']"
   ]
  },
  {
   "cell_type": "code",
   "execution_count": 44,
   "id": "868b7151",
   "metadata": {
    "ExecuteTime": {
     "start_time": "2023-11-27T16:35:42.052190Z",
     "end_time": "2023-11-27T16:35:42.148946Z"
    }
   },
   "outputs": [
    {
     "data": {
      "text/plain": "   Email ID  True Class  Logistic Regression  Decision Tree  Random Forest  \\\n0        17        True                 True           True           True   \n1      1379       False                False          False          False   \n\n   Gradient Boosting Tree  Naive Bayes  \n0                    True         True  \n1                   False        False  ",
      "text/html": "<div>\n<style scoped>\n    .dataframe tbody tr th:only-of-type {\n        vertical-align: middle;\n    }\n\n    .dataframe tbody tr th {\n        vertical-align: top;\n    }\n\n    .dataframe thead th {\n        text-align: right;\n    }\n</style>\n<table border=\"1\" class=\"dataframe\">\n  <thead>\n    <tr style=\"text-align: right;\">\n      <th></th>\n      <th>Email ID</th>\n      <th>True Class</th>\n      <th>Logistic Regression</th>\n      <th>Decision Tree</th>\n      <th>Random Forest</th>\n      <th>Gradient Boosting Tree</th>\n      <th>Naive Bayes</th>\n    </tr>\n  </thead>\n  <tbody>\n    <tr>\n      <th>0</th>\n      <td>17</td>\n      <td>True</td>\n      <td>True</td>\n      <td>True</td>\n      <td>True</td>\n      <td>True</td>\n      <td>True</td>\n    </tr>\n    <tr>\n      <th>1</th>\n      <td>1379</td>\n      <td>False</td>\n      <td>False</td>\n      <td>False</td>\n      <td>False</td>\n      <td>False</td>\n      <td>False</td>\n    </tr>\n  </tbody>\n</table>\n</div>"
     },
     "execution_count": 44,
     "metadata": {},
     "output_type": "execute_result"
    }
   ],
   "source": [
    "ml.results_by_id(models, names, word2vec_test_balanced_complete, [5, 17, 1379], lr_word2vec_balanced_scaler, nb_word2vec_balanced_scaler)"
   ]
  },
  {
   "cell_type": "markdown",
   "id": "e023859a",
   "metadata": {},
   "source": [
    "We see that the emails with `id: 17` was correctly identified as phishing by all algorithms and, similarly, the email with `id: 5` was unanimously correctly identified as legitimate.<br>\n",
    "\n",
    "On the other hand, the email with `id: 1379` was misclassified by all of the algorithms except Logistic Regression.\n",
    "```\n",
    "Hello,\n",
    " I hope you are safe from the Covid 19.\n",
    " We are currently back to work and our company hope to place our urgent orders as previously discussed before the lockdown.\n",
    "Kindly find below our attached order via Wetransfer and confirm availability of all products.\n",
    "\n",
    "\n",
    " https://wetransfer.com/downloads\n",
    "\n",
    "\n",
    "\n",
    " Kindly send in your best quote and shortest delivery time.\n",
    " -\n",
    "\n",
    "\n",
    " Greetings!\n",
    "Maria Pietrygas (Import Manager)\n",
    "Nautril Holdings\n",
    "Athens Gr\n",
    "Tel.08872917845\n",
    "```\n",
    "Indeed, while it is a phishing email, it appears to be legitimate (despite the fact that this company does not even exist). Apart from a sense of urgency, none of the other usual phishing markers are present."
   ]
  },
  {
   "cell_type": "markdown",
   "id": "3348e9c5",
   "metadata": {},
   "source": [
    "# Conclusions"
   ]
  },
  {
   "cell_type": "markdown",
   "id": "cb0b8da7",
   "metadata": {},
   "source": [
    "- As expected, the algorithms performed better on the balanced dataset.\n",
    "- The best performing algorithms were Gradient Boosting and Logistic Regression. Gradient Boosting was a bit more consistent and achieved the best results in the balanced dataset, but Logistic Regression outperformed it in on the imbalanced set.\n",
    "- Naive Bayes (despite achieving the best results in balanced TF-IDF) is not very well suited to such classification problems, and is especially bad with imbalanced datasets.\n",
    "- Wor2Vec features definitely outperformed TF-IDF, both in balanced and imbalanced datasets."
   ]
  }
 ],
 "metadata": {
  "kernelspec": {
   "display_name": "Python 3 (ipykernel)",
   "language": "python",
   "name": "python3"
  },
  "language_info": {
   "codemirror_mode": {
    "name": "ipython",
    "version": 3
   },
   "file_extension": ".py",
   "mimetype": "text/x-python",
   "name": "python",
   "nbconvert_exporter": "python",
   "pygments_lexer": "ipython3",
   "version": "3.11.5"
  }
 },
 "nbformat": 4,
 "nbformat_minor": 5
}
