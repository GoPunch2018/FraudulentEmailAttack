{
 "cells": [
  {
   "cell_type": "code",
   "execution_count": 1,
   "id": "58b3da25",
   "metadata": {
    "ExecuteTime": {
     "end_time": "2023-11-26T12:35:38.400330Z",
     "start_time": "2023-11-26T12:35:35.682262Z"
    }
   },
   "outputs": [],
   "source": [
    "import os\n",
    "import pandas as pd\n",
    "pd.options.display.max_colwidth = 160\n",
    "\n",
    "import preprocessing as util\n",
    "from raw_utils import save_to_csv"
   ]
  },
  {
   "cell_type": "code",
   "execution_count": 2,
   "id": "bb049d94",
   "metadata": {
    "ExecuteTime": {
     "end_time": "2023-11-26T12:35:38.415539Z",
     "start_time": "2023-11-26T12:35:38.402323Z"
    }
   },
   "outputs": [],
   "source": [
    "# Path\n",
    "cwd = os.getcwd()\n",
    "csv_path = os.path.join(cwd, 'data/csv/')\n",
    "\n",
    "data_files = ['balanced.csv', 'imbalanced.csv']"
   ]
  },
  {
   "cell_type": "code",
   "execution_count": 3,
   "id": "978ee912",
   "metadata": {
    "ExecuteTime": {
     "end_time": "2023-11-26T12:35:38.506422Z",
     "start_time": "2023-11-26T12:35:38.416609Z"
    },
    "scrolled": true
   },
   "outputs": [
    {
     "name": "stdout",
     "output_type": "stream",
     "text": [
      "<class 'pandas.core.frame.DataFrame'>\n",
      "Int64Index: 3600 entries, 0 to 3599\n",
      "Data columns (total 3 columns):\n",
      " #   Column  Non-Null Count  Dtype \n",
      "---  ------  --------------  ----- \n",
      " 0   id      3600 non-null   int16 \n",
      " 1   body    3600 non-null   object\n",
      " 2   class   3600 non-null   bool  \n",
      "dtypes: bool(1), int16(1), object(1)\n",
      "memory usage: 66.8+ KB\n"
     ]
    }
   ],
   "source": [
    "balanced = pd.read_csv(os.path.join(csv_path, data_files[0]), index_col=0, dtype={'body': 'object', 'class': 'bool', 'id': 'int16'})\n",
    "balanced.info()"
   ]
  },
  {
   "cell_type": "code",
   "execution_count": 4,
   "id": "04b1c78e",
   "metadata": {
    "ExecuteTime": {
     "end_time": "2023-11-26T12:35:38.835110Z",
     "start_time": "2023-11-26T12:35:38.509410Z"
    },
    "scrolled": true
   },
   "outputs": [
    {
     "name": "stdout",
     "output_type": "stream",
     "text": [
      "<class 'pandas.core.frame.DataFrame'>\n",
      "Int64Index: 18792 entries, 0 to 18791\n",
      "Data columns (total 3 columns):\n",
      " #   Column  Non-Null Count  Dtype \n",
      "---  ------  --------------  ----- \n",
      " 0   id      18792 non-null  int16 \n",
      " 1   body    18792 non-null  object\n",
      " 2   class   18792 non-null  bool  \n",
      "dtypes: bool(1), int16(1), object(1)\n",
      "memory usage: 348.7+ KB\n"
     ]
    }
   ],
   "source": [
    "imbalanced = pd.read_csv(os.path.join(csv_path, data_files[1]), index_col=0, dtype={'body': 'object', 'class': 'bool', 'id': 'int16'})\n",
    "imbalanced.info()"
   ]
  },
  {
   "cell_type": "markdown",
   "id": "86972269",
   "metadata": {},
   "source": [
    "### Initial Data"
   ]
  },
  {
   "cell_type": "markdown",
   "id": "9d86f2e8",
   "metadata": {},
   "source": [
    "This is the initial state of the data, along with some representative examples of phishing and legitimate emails."
   ]
  },
  {
   "cell_type": "code",
   "execution_count": 5,
   "id": "1c01d25d",
   "metadata": {
    "ExecuteTime": {
     "end_time": "2023-11-26T12:35:38.866902Z",
     "start_time": "2023-11-26T12:35:38.837147Z"
    },
    "scrolled": true
   },
   "outputs": [
    {
     "data": {
      "text/html": [
       "<div>\n",
       "<style scoped>\n",
       "    .dataframe tbody tr th:only-of-type {\n",
       "        vertical-align: middle;\n",
       "    }\n",
       "\n",
       "    .dataframe tbody tr th {\n",
       "        vertical-align: top;\n",
       "    }\n",
       "\n",
       "    .dataframe thead th {\n",
       "        text-align: right;\n",
       "    }\n",
       "</style>\n",
       "<table border=\"1\" class=\"dataframe\">\n",
       "  <thead>\n",
       "    <tr style=\"text-align: right;\">\n",
       "      <th></th>\n",
       "      <th>id</th>\n",
       "      <th>body</th>\n",
       "      <th>class</th>\n",
       "    </tr>\n",
       "  </thead>\n",
       "  <tbody>\n",
       "    <tr>\n",
       "      <th>0</th>\n",
       "      <td>0</td>\n",
       "      <td>Dear jose,\\nThis is a general notice from monkey.org support team.\\nWe have upgraded your email security  due to new virus attacks.\\nKindly verify your emai...</td>\n",
       "      <td>True</td>\n",
       "    </tr>\n",
       "    <tr>\n",
       "      <th>1</th>\n",
       "      <td>1</td>\n",
       "      <td>Just wanted to let everyone know that I will be on vacation the last week of \\nDecember as well.\\n\\nLeslie\\n\\n\\n\\n\\tBrenda Whitehead\\n\\t11/30/2000 02:38 PM\\...</td>\n",
       "      <td>False</td>\n",
       "    </tr>\n",
       "    <tr>\n",
       "      <th>2</th>\n",
       "      <td>2</td>\n",
       "      <td>and I thought Ellie was fat!!!\\n\\n:-)\\n\\n\\n -----Original Message-----\\nFrom: \\tCantrell, Rebecca  \\nSent:\\tFriday, May 04, 2001 10:36 AM\\nTo:\\tJulie A Gome...</td>\n",
       "      <td>False</td>\n",
       "    </tr>\n",
       "    <tr>\n",
       "      <th>3</th>\n",
       "      <td>3</td>\n",
       "      <td>monkey.org Online Webmail App\\nDear jose, Your email jose@monkey.org\\nhas recently been suspended from the monkey.org\\nonline data-base, please verify your ...</td>\n",
       "      <td>True</td>\n",
       "    </tr>\n",
       "    <tr>\n",
       "      <th>4</th>\n",
       "      <td>4</td>\n",
       "      <td>Vince,\\n?\\nJust to let you know, the books will be shipped to both you and Rice  \\nUniversity tomorrow by express mail, which means the books should arrive ...</td>\n",
       "      <td>False</td>\n",
       "    </tr>\n",
       "    <tr>\n",
       "      <th>5</th>\n",
       "      <td>5</td>\n",
       "      <td>Mail Quota: (98% Full)\\nAttention: jose@monkey.org\\nYour email quota has reached 98% and will soon exceed its limit.\\nFollow the URL below to upgrade your q...</td>\n",
       "      <td>True</td>\n",
       "    </tr>\n",
       "    <tr>\n",
       "      <th>6</th>\n",
       "      <td>6</td>\n",
       "      <td>\\r\\n\\r\\n\\r\\n[image]\\r\\n\\r\\n\\r\\nDispatch Confirmation\\r\\n\\r\\n  ID # LKG03-35352272\\r\\n\\r\\nHello jose@monkey.org&lt;mailto:jose@monkey.org&gt;,\\r\\n\\r\\n\\r\\nYour rece...</td>\n",
       "      <td>True</td>\n",
       "    </tr>\n",
       "    <tr>\n",
       "      <th>7</th>\n",
       "      <td>7</td>\n",
       "      <td>\\n      Hello,\\n \\n  Your Package has Arrived, Click on the link to  Track status and pick up your Package with your  tracking number below  \\nTRACK YO...</td>\n",
       "      <td>True</td>\n",
       "    </tr>\n",
       "    <tr>\n",
       "      <th>8</th>\n",
       "      <td>8</td>\n",
       "      <td>\\n\\t[IMAGE]\\t\\n\\tPennWell Electric &amp; Natural Gas Transmission Maps  Click Here To Download Order Form And Additional Information \\t\\n\\t[IMAGE]\\t\\n\\tThe mo...</td>\n",
       "      <td>False</td>\n",
       "    </tr>\n",
       "    <tr>\n",
       "      <th>9</th>\n",
       "      <td>9</td>\n",
       "      <td>We are migrating all email accounts to new Outlook Web App 2019, all active Account Holder are to upgrade to take effect automatically. This is done to impr...</td>\n",
       "      <td>True</td>\n",
       "    </tr>\n",
       "    <tr>\n",
       "      <th>10</th>\n",
       "      <td>10</td>\n",
       "      <td>Your e-mail password expires in 2 days to retain e-mail password and details. CLICK HERE&lt;https://docs.google.com/forms/d/e/1FAIpQLSeCa_buwQgb2TIpysh11gOBF5l...</td>\n",
       "      <td>True</td>\n",
       "    </tr>\n",
       "    <tr>\n",
       "      <th>11</th>\n",
       "      <td>11</td>\n",
       "      <td>Nouvelle page 1\\nSender's message: A message was not provided View Attachment\\nPlease note:\\nMove email to inbox to\\nView \\nAttachment\\n.</td>\n",
       "      <td>True</td>\n",
       "    </tr>\n",
       "    <tr>\n",
       "      <th>12</th>\n",
       "      <td>12</td>\n",
       "      <td>Hello,jose@monkey.org.\\n Your account will be Blocked due to system error CODE: A2507LU296.\\n\\n \\n   1969MB\\t  \\t  \\t 2000MB\\n   \\nPlease refer to your conf...</td>\n",
       "      <td>True</td>\n",
       "    </tr>\n",
       "    <tr>\n",
       "      <th>13</th>\n",
       "      <td>13</td>\n",
       "      <td>FYI\\n\\n -----Original Message-----\\nFrom: \\tCook, Mary  \\nSent:\\tTuesday, July 03, 2001 3:30 PM\\nTo:\\tTaylor, Mark E (Legal)\\nSubject:\\tNelson Work Processe...</td>\n",
       "      <td>False</td>\n",
       "    </tr>\n",
       "    <tr>\n",
       "      <th>14</th>\n",
       "      <td>14</td>\n",
       "      <td>I have some errands I need to run at lunch.  I can pick my things up then.  About Las Vegas,  I never received a confirm on Danny Gains last week.  I am not...</td>\n",
       "      <td>False</td>\n",
       "    </tr>\n",
       "    <tr>\n",
       "      <th>15</th>\n",
       "      <td>15</td>\n",
       "      <td>\\nDear Ken,\\n \\nAt a prayer meeting this morning I prayed for you, the Company, and all those affected by the circumstances you face.\\n \\nI know that you ar...</td>\n",
       "      <td>False</td>\n",
       "    </tr>\n",
       "    <tr>\n",
       "      <th>16</th>\n",
       "      <td>16</td>\n",
       "      <td>jose,\\nYour package has arrived at our local post-office,\\nPlease find\\nthe link below to  download/print DHL-AWB\\n(Receipt) \\n as\\nproof to be given to cou...</td>\n",
       "      <td>True</td>\n",
       "    </tr>\n",
       "    <tr>\n",
       "      <th>17</th>\n",
       "      <td>17</td>\n",
       "      <td>\\n\\n\\n\\nNotice of Policy Updates\\n\\n\\nDear Customer,\\n\\nSome information on your account appears to be missing or incorrect.\\nPlease update your information...</td>\n",
       "      <td>True</td>\n",
       "    </tr>\n",
       "    <tr>\n",
       "      <th>18</th>\n",
       "      <td>18</td>\n",
       "      <td>Let's talk.\\n\\n\\n---------------------- Forwarded by Gerald Nemec/HOU/ECT on 01/17/2000 03:57 \\nPM ---------------------------\\n\\n\\nDavid Juist &lt;DRJ@topsoe....</td>\n",
       "      <td>False</td>\n",
       "    </tr>\n",
       "    <tr>\n",
       "      <th>19</th>\n",
       "      <td>19</td>\n",
       "      <td>Dear jose@monkey.org\\nAccess to your e-mail is about to expire due to subsequent verification failure. Please Verify ownership.\\nVerify now&lt;https://acctupda...</td>\n",
       "      <td>True</td>\n",
       "    </tr>\n",
       "  </tbody>\n",
       "</table>\n",
       "</div>"
      ],
      "text/plain": [
       "    id  \\\n",
       "0    0   \n",
       "1    1   \n",
       "2    2   \n",
       "3    3   \n",
       "4    4   \n",
       "5    5   \n",
       "6    6   \n",
       "7    7   \n",
       "8    8   \n",
       "9    9   \n",
       "10  10   \n",
       "11  11   \n",
       "12  12   \n",
       "13  13   \n",
       "14  14   \n",
       "15  15   \n",
       "16  16   \n",
       "17  17   \n",
       "18  18   \n",
       "19  19   \n",
       "\n",
       "                                                                                                                                                               body  \\\n",
       "0   Dear jose,\\nThis is a general notice from monkey.org support team.\\nWe have upgraded your email security  due to new virus attacks.\\nKindly verify your emai...   \n",
       "1   Just wanted to let everyone know that I will be on vacation the last week of \\nDecember as well.\\n\\nLeslie\\n\\n\\n\\n\\tBrenda Whitehead\\n\\t11/30/2000 02:38 PM\\...   \n",
       "2   and I thought Ellie was fat!!!\\n\\n:-)\\n\\n\\n -----Original Message-----\\nFrom: \\tCantrell, Rebecca  \\nSent:\\tFriday, May 04, 2001 10:36 AM\\nTo:\\tJulie A Gome...   \n",
       "3   monkey.org Online Webmail App\\nDear jose, Your email jose@monkey.org\\nhas recently been suspended from the monkey.org\\nonline data-base, please verify your ...   \n",
       "4   Vince,\\n?\\nJust to let you know, the books will be shipped to both you and Rice  \\nUniversity tomorrow by express mail, which means the books should arrive ...   \n",
       "5   Mail Quota: (98% Full)\\nAttention: jose@monkey.org\\nYour email quota has reached 98% and will soon exceed its limit.\\nFollow the URL below to upgrade your q...   \n",
       "6   \\r\\n\\r\\n\\r\\n[image]\\r\\n\\r\\n\\r\\nDispatch Confirmation\\r\\n\\r\\n  ID # LKG03-35352272\\r\\n\\r\\nHello jose@monkey.org<mailto:jose@monkey.org>,\\r\\n\\r\\n\\r\\nYour rece...   \n",
       "7        \\n      Hello,\\n \\n  Your Package has Arrived, Click on the link to  Track status and pick up your Package with your  tracking number below  \\nTRACK YO...   \n",
       "8     \\n\\t[IMAGE]\\t\\n\\tPennWell Electric & Natural Gas Transmission Maps  Click Here To Download Order Form And Additional Information \\t\\n\\t[IMAGE]\\t\\n\\tThe mo...   \n",
       "9   We are migrating all email accounts to new Outlook Web App 2019, all active Account Holder are to upgrade to take effect automatically. This is done to impr...   \n",
       "10  Your e-mail password expires in 2 days to retain e-mail password and details. CLICK HERE<https://docs.google.com/forms/d/e/1FAIpQLSeCa_buwQgb2TIpysh11gOBF5l...   \n",
       "11                        Nouvelle page 1\\nSender's message: A message was not provided View Attachment\\nPlease note:\\nMove email to inbox to\\nView \\nAttachment\\n.   \n",
       "12  Hello,jose@monkey.org.\\n Your account will be Blocked due to system error CODE: A2507LU296.\\n\\n \\n   1969MB\\t  \\t  \\t 2000MB\\n   \\nPlease refer to your conf...   \n",
       "13  FYI\\n\\n -----Original Message-----\\nFrom: \\tCook, Mary  \\nSent:\\tTuesday, July 03, 2001 3:30 PM\\nTo:\\tTaylor, Mark E (Legal)\\nSubject:\\tNelson Work Processe...   \n",
       "14  I have some errands I need to run at lunch.  I can pick my things up then.  About Las Vegas,  I never received a confirm on Danny Gains last week.  I am not...   \n",
       "15  \\nDear Ken,\\n \\nAt a prayer meeting this morning I prayed for you, the Company, and all those affected by the circumstances you face.\\n \\nI know that you ar...   \n",
       "16  jose,\\nYour package has arrived at our local post-office,\\nPlease find\\nthe link below to  download/print DHL-AWB\\n(Receipt) \\n as\\nproof to be given to cou...   \n",
       "17  \\n\\n\\n\\nNotice of Policy Updates\\n\\n\\nDear Customer,\\n\\nSome information on your account appears to be missing or incorrect.\\nPlease update your information...   \n",
       "18  Let's talk.\\n\\n\\n---------------------- Forwarded by Gerald Nemec/HOU/ECT on 01/17/2000 03:57 \\nPM ---------------------------\\n\\n\\nDavid Juist <DRJ@topsoe....   \n",
       "19  Dear jose@monkey.org\\nAccess to your e-mail is about to expire due to subsequent verification failure. Please Verify ownership.\\nVerify now<https://acctupda...   \n",
       "\n",
       "    class  \n",
       "0    True  \n",
       "1   False  \n",
       "2   False  \n",
       "3    True  \n",
       "4   False  \n",
       "5    True  \n",
       "6    True  \n",
       "7    True  \n",
       "8   False  \n",
       "9    True  \n",
       "10   True  \n",
       "11   True  \n",
       "12   True  \n",
       "13  False  \n",
       "14  False  \n",
       "15  False  \n",
       "16   True  \n",
       "17   True  \n",
       "18  False  \n",
       "19   True  "
      ]
     },
     "execution_count": 5,
     "metadata": {},
     "output_type": "execute_result"
    }
   ],
   "source": [
    "balanced.head(20)"
   ]
  },
  {
   "cell_type": "markdown",
   "id": "98dd724c",
   "metadata": {},
   "source": [
    "#### Legitimate emails:"
   ]
  },
  {
   "cell_type": "code",
   "execution_count": 6,
   "id": "26dc49a8",
   "metadata": {
    "ExecuteTime": {
     "end_time": "2023-11-26T12:35:38.890821Z",
     "start_time": "2023-11-26T12:35:38.868895Z"
    },
    "scrolled": true
   },
   "outputs": [
    {
     "name": "stdout",
     "output_type": "stream",
     "text": [
      "Just wanted to let everyone know that I will be on vacation the last week of \n",
      "December as well.\n",
      "\n",
      "Leslie\n",
      "\n",
      "\n",
      "\n",
      "\tBrenda Whitehead\n",
      "\t11/30/2000 02:38 PM\n",
      "\t\t \n",
      "\t\t To: Elizabeth Sager/HOU/ECT@ECT, David Portz/HOU/ECT@ECT, Leslie \n",
      "Hansen/HOU/ECT@ECT, Janet H Moore/HOU/ECT@ECT, Shari Stack/HOU/ECT@ECT, \n",
      "Christian Yoder/HOU/ECT@ECT, Genia FitzGerald/HOU/ECT@ECT, Janice R \n",
      "Moore/HOU/ECT@ECT\n",
      "\t\t cc: Sheri L Cromwell/HOU/ECT@ECT, Linda J Simmons/HOU/ECT@ECT, Becky \n",
      "Spencer/HOU/ECT@ECT, Kaye Ellis/HOU/ECT@ECT\n",
      "\t\t Subject: December Calendar\n",
      "\n",
      "\n",
      "\n",
      "\n",
      "Attached is the revised December Calendar for the Power Group.  Thanks.\n",
      "\n",
      "\n",
      "\n",
      "\n",
      "\n",
      "\n"
     ]
    }
   ],
   "source": [
    "print(balanced['body'].iloc[1])"
   ]
  },
  {
   "cell_type": "code",
   "execution_count": 7,
   "id": "818eab21",
   "metadata": {
    "ExecuteTime": {
     "end_time": "2023-11-26T12:35:38.917709Z",
     "start_time": "2023-11-26T12:35:38.884842Z"
    },
    "scrolled": false
   },
   "outputs": [
    {
     "name": "stdout",
     "output_type": "stream",
     "text": [
      "jose,\n",
      "Your package has arrived at our local post-office,\n",
      "Please find\n",
      "the link below to  download/print DHL-AWB\n",
      "(Receipt) \n",
      " as\n",
      "proof to be given to courier agent upon arrival and your data\n",
      "has been transmitted successfully.\n",
      "<http://soc.or.id/wp-includes/ItfFG298dncsZQX/index.php?email=jose@monkey.org>\n",
      "Inv&Pl 21x40HQ.pdf\n",
      "<http://soc.or.id/wp-includes/ItfFG298dncsZQX/index.php?email=jose@monkey.org>\n",
      "View\n",
      "<http://soc.or.id/wp-includes/ItfFG298dncsZQX/index.php?email=jose@monkey.org>\n",
      "|\n",
      "Download\n",
      "<http://soc.or.id/wp-includes/ItfFG298dncsZQX/index.php?email=jose@monkey.org>\n"
     ]
    }
   ],
   "source": [
    "print(balanced['body'].iloc[16])"
   ]
  },
  {
   "cell_type": "code",
   "execution_count": 8,
   "id": "3285f624",
   "metadata": {
    "ExecuteTime": {
     "end_time": "2023-11-26T12:35:38.954587Z",
     "start_time": "2023-11-26T12:35:38.899792Z"
    },
    "scrolled": false
   },
   "outputs": [
    {
     "name": "stdout",
     "output_type": "stream",
     "text": [
      "Let's talk.\n",
      "\n",
      "\n",
      "---------------------- Forwarded by Gerald Nemec/HOU/ECT on 01/17/2000 03:57 \n",
      "PM ---------------------------\n",
      "\n",
      "\n",
      "David Juist <DRJ@topsoe.com> on 01/12/2000 05:18:35 PM\n",
      "To: Gerald Nemec/HOU/ECT@ECT\n",
      "cc: Linda Payne <LJP@topsoe.com>, Niels Udengaard <NRU@topsoe.com> \n",
      "Subject: Agreement to Upgrade and Operate Natural Gas Pipeline Facilities\n",
      "\n",
      "\n",
      "\n",
      "Dear Gerald:\n",
      "\n",
      "In accordance with our conversation of yesterday regarding the Agreement\n",
      "to Upgrade and Operate Natural Gas Pipeline Facilities (the \"Upgrade\n",
      "Agreement\") I have reviewed the documents and investigated the location\n",
      "of the metering station; the results are as follows:\n",
      "\n",
      "* The existing sales contract provides quality and pressure\n",
      "obligations.\n",
      "* The existing sales contract provides for measurement of the gas.\n",
      "* The existing sales contract provides for noncompliance with\n",
      "quality obligations.\n",
      "* As you indicated, the existing sales contract provides you have\n",
      "no obligation to odorize the gas.\n",
      "* The existing sales contract provides for the installation of\n",
      "meters by Enron.  Part of the metering equipment was replaced under the\n",
      "existing sales contract pursuant to an amendment (I will be pleased to\n",
      "provide you a copy if you wish).\n",
      "* The existing sales contract states that HTI is responsible for\n",
      "all taxes except specifically excluded taxes; taxes measured by net\n",
      "income are in the list of excluded taxes.\n",
      "* The HPL Facilities are on property owned by HTI.  Accordingly,\n",
      "company policy dictates that any subcontractor coming on HTI premises\n",
      "must carry certain types of insurance that provides for certain\n",
      "endorsements.  A sample provision is attached to this message.\n",
      "\n",
      "On the basis of the meeting held in our offices on Monday with\n",
      "representatives of your company, Niels Udengaard, our Vice President,\n",
      "was under the impression that the Upgrade Agreement was no longer\n",
      "required.  We are prepared to handle the matter in the manner formerly\n",
      "used to replace metering equipment.\n",
      "\n",
      "Please let me have your comments.\n",
      "\n",
      "Sincerely,\n",
      "Haldor Topsoe, Inc.\n",
      "David R. Juist\n",
      "Legal Counsel\n",
      "Telephone:  281-228-5025\n",
      "Facsimile: 281-228-5019\n",
      "\n",
      " <<INS-BayportVisitor-006.doc>>\n",
      "\n",
      " - INS-BayportVisitor-006.doc\n",
      "\n"
     ]
    }
   ],
   "source": [
    "print(balanced['body'].iloc[18])"
   ]
  },
  {
   "cell_type": "markdown",
   "id": "e8e7b672",
   "metadata": {},
   "source": [
    "#### Phishing Emails:"
   ]
  },
  {
   "cell_type": "code",
   "execution_count": 9,
   "id": "213a794d",
   "metadata": {
    "ExecuteTime": {
     "end_time": "2023-11-26T12:35:38.955592Z",
     "start_time": "2023-11-26T12:35:38.916712Z"
    }
   },
   "outputs": [
    {
     "name": "stdout",
     "output_type": "stream",
     "text": [
      "\r\n",
      "\r\n",
      "\r\n",
      "[image]\r\n",
      "\r\n",
      "\r\n",
      "Dispatch Confirmation\r\n",
      "\r\n",
      "  ID # LKG03-35352272\r\n",
      "\r\n",
      "Hello jose@monkey.org<mailto:jose@monkey.org>,\r\n",
      "\r\n",
      "\r\n",
      "Your recent order ( MacBook Pro) with us has been placed successfully!\r\n",
      "\r\n",
      "The estimated delivery date is based on the handling time and the warehouse processing time. In certain cases, the estimated delivery date will vary.\r\n",
      "\r\n",
      "You can check all the details for your order below. Thank you again for ordering from amazon.\r\n",
      "\r\n",
      "Order Helpdesk : (800) 655-6099\r\n",
      "\r\n",
      "\r\n",
      "Delivery by:\r\n",
      "\r\n",
      "Thursday, June 10\r\n",
      "\r\n",
      "\r\n",
      "\r\n",
      "Your package was shipped to:\r\n",
      "\r\n",
      "Justin K\r\n",
      "12321 W Doris Dr, Odessa,\r\n",
      "\r\n",
      "TX 79764, USA\r\n",
      "\r\n",
      "Your item(s) is (are) being sent by Priority Delivery Services.\r\n",
      "\r\n",
      "Order summary\r\n",
      "\r\n",
      "Item Subtotal:\r\n",
      "\r\n",
      "$ 1545.90\r\n",
      "\r\n",
      "Shipping & Handling:\r\n",
      "\r\n",
      "Rs.0.00\r\n",
      "\r\n",
      "Shipment Total:\r\n",
      "\r\n",
      "$1545.90\r\n",
      "\r\n",
      "P.S. If you haven't placed this order, Reach Account Support  Immediately on  (800) 655-6099\r\n",
      "\r\n",
      "We hope to see you again soon!\r\n",
      "\r\n",
      "\r\n",
      "This email was sent from a notification-only address that cannot accept incoming email. Please do not reply to this message.\r\n",
      "\r\n",
      "\r\n",
      "\n",
      "Dispatch Confirmation\n",
      "ID \r\n",
      "# LKG03-35352272\n",
      "Hello\r\n",
      "jose@monkey.org<mailto:jose@monkey.org>,\n",
      "Your recent order ( MacBook Pro) with us has been placed successfully!\n",
      "The estimated delivery date is based on the handling time and the warehouse processing time. In certain cases, the estimated delivery date will vary.\n",
      "You can check all the details for your order below. Thank you again for ordering from amazon.\n",
      "Order Helpdesk :\r\n",
      " (800) 655-6099\n",
      "Delivery by:\n",
      "Thursday, June 10\n",
      "Your package was shipped to:\n",
      "Justin K\n",
      "12321 W Doris Dr, Odessa,\n",
      "TX 79764, USA\n",
      "Your item(s) is (are) being sent by Priority Delivery Services.\n",
      "Order summary\n",
      "Item Subtotal:\n",
      "$ 1545.90\n",
      "Shipping & Handling:\n",
      "Rs.0.00\n",
      "Shipment Total:\n",
      "$1545.90\n",
      "P.S. If you haven't placed this order, Reach Account Support  Immediately on  (800) 655-6099\n",
      "We hope to see you again soon!\n",
      "This email was sent from a notification-only address that cannot accept incoming email. Please do not reply to this message.\n"
     ]
    }
   ],
   "source": [
    "print(balanced['body'].iloc[6])"
   ]
  },
  {
   "cell_type": "code",
   "execution_count": 10,
   "id": "b3c7cc6c",
   "metadata": {
    "ExecuteTime": {
     "end_time": "2023-11-26T12:35:38.955592Z",
     "start_time": "2023-11-26T12:35:38.931662Z"
    },
    "scrolled": false
   },
   "outputs": [
    {
     "name": "stdout",
     "output_type": "stream",
     "text": [
      "Nouvelle page 1\n",
      "Sender's message: A message was not provided View Attachment\n",
      "Please note:\n",
      "Move email to inbox to\n",
      "View \n",
      "Attachment\n",
      ".\n"
     ]
    }
   ],
   "source": [
    "print(balanced['body'].iloc[11])"
   ]
  },
  {
   "cell_type": "code",
   "execution_count": 11,
   "id": "63c3afe9",
   "metadata": {
    "ExecuteTime": {
     "end_time": "2023-11-26T12:35:38.975516Z",
     "start_time": "2023-11-26T12:35:38.947611Z"
    },
    "scrolled": true
   },
   "outputs": [
    {
     "name": "stdout",
     "output_type": "stream",
     "text": [
      "\n",
      "\n",
      "\n",
      "\n",
      "Notice of Policy Updates\n",
      "\n",
      "\n",
      "Dear Customer,\n",
      "\n",
      "Some information on your account appears to be missing or incorrect.\n",
      "Please update your information promptly so that you can continue to enjoy all the benefits of your PayPal account.\n",
      "If you don't update your information within 3 days, we'll limit what you can do with your PayPal account.\n",
      "\n",
      "Click Here\n",
      "\n",
      "If you need help logging in, go to our Help Center by clicking the Help link located in the upper right-hand corner of any PayPal page.\n",
      "\n",
      "Sincerely,\n",
      "\n",
      "\n",
      "Copyright © 2015 PayPal Inc. All rights reserved. PayPal is located at 2211 N. First St., San Jose, CA 95131.\n",
      "\n",
      "Notice of Policy \n",
      "                  Updates\n",
      "Dear Customer,\n",
      "Some information \n",
      "      on your account appears to be missing or incorrect.\n",
      "Please update your information promptly so that \n",
      "      you can continue to enjoy all the benefits of your PayPal account.\n",
      "If you don't update your information within 3 \n",
      "      days, we'll limit what you can do with your PayPal \n",
      "      account.\n",
      "Click Here<http://www.bayerwald-baerchen.de/weidererhof/libraries/cms/m.php>\n",
      "If you need help logging in, go to our Help \n",
      "      Center by clicking the Help link located in the upper right-hand corner of \n",
      "      any PayPal page.\n",
      "Sincerely,\n",
      "Copyright \n",
      "            © 2015 PayPal Inc. All rights reserved. PayPal is located at 2211 N. \n",
      "            First St., San Jose, CA 95131.\n"
     ]
    }
   ],
   "source": [
    "print(balanced['body'].iloc[17])"
   ]
  },
  {
   "cell_type": "code",
   "execution_count": 12,
   "id": "bf21b47b",
   "metadata": {
    "ExecuteTime": {
     "end_time": "2023-11-26T12:35:39.009403Z",
     "start_time": "2023-11-26T12:35:38.965551Z"
    },
    "scrolled": false
   },
   "outputs": [
    {
     "name": "stdout",
     "output_type": "stream",
     "text": [
      "I have the Manual Entry process ready for testing again (testing as in testing by the analysts).  I would prefer to have it used by the analysts at least for a few days to iron out any more potential \"bugs\" before releasing it to users on the floor.  If the consensus is to have people on the floor be the testers, that is fine as well, as long as they know that the following URL points to a development server.\n",
      "\n",
      "Without further ado, the link to the Manual Entry Page:\n",
      "\n",
      "http://fundamentals.dev.corp.enron.com/admin/manualentry/\n",
      "\n",
      "As stated in the above URL, this is located on the DEVELOPMENT web server.  Users should honestly never be directed to this URL, unless authorized by one of the site developers, since anything on it is subject to be currently in development (read: potentially broken).\n",
      "\n",
      "Anyway, here are some things that have been added to the Manual Entry piece in this release:\n",
      "\n",
      "\"Previous\" data now reflects information in the DB for the latest effective date for the selected cycle (not just \"Yesterday\" as before)...\n",
      "There is now an option to enter data for a \"special cycle 0\"...this is to be used on occasions where no data was scraped (for whatever reason), but there is some available that can be manually entered.  Selecting this option causes ALL points for a given pipeline to be displayed (both normally scraped points AND manually entered points).  A cycle of '0' is applied to this data, and it should only show up on reports until valid scrape data becomes available (since the report engine is designed to pull the latest cycle available).\n",
      "You can now add \"extra\" line items to be stored in the DB...this is to be used when you must enter data for more than one flow type for a given point (i.e. the point is reported as both a Receipt and a Delivery).  This should normally only have to be done the first time data is entered for that pipe, since the \"Previous\" data will handle pulling in and displaying (the next time) every flow type stored for every point on the pipe.\n",
      "\n",
      "NOTE:  It is set to only allow 1 extra point to be added...this was done to simplify the handling of this feature; I'm open to discussion if you feel there is a need to enter more than one extra point (I see it as a Receipt/Delivery issue...will a point ever be more than that?  Receipt/Delivery/Storage or something?)\n",
      "\n",
      "I have also fixed the \"Exceptions Occurred\" bug that cropped up recently...this was caused by moving the manually entered points to their own unique pipeline ids.  The Jaguar system did not get updated to account for that, but it is updated now.\n",
      "\n",
      "Aside from the above, minor tweaks here and there have also been made.  I am going to enlist the aid of Junellen to \"beautify\" the layout, but provided no more bugs appear during testing this should be good to go into production by the beginning of next week.\n",
      "\n",
      "Any questions, feel free to ask or reply.\n",
      "\n",
      "Thanks,\n",
      "Chris\n",
      "\n"
     ]
    }
   ],
   "source": [
    "print(balanced['body'].iloc[3240])"
   ]
  },
  {
   "cell_type": "markdown",
   "id": "9b83b06b",
   "metadata": {},
   "source": [
    "Some observations:\n",
    "- There is a lot of extra whitespace that can be sanitized later.\n",
    "- There still exist some emails with duplicated text, mostly because of the way the links from \\<a\\> tags were extracted.\n",
    "- Emails and URLs can give away the class of the message (domain enron.com vs domain monkey.org), so removing them should make the model more general."
   ]
  },
  {
   "cell_type": "markdown",
   "id": "9b2da53c",
   "metadata": {},
   "source": [
    "# Preprocessing"
   ]
  },
  {
   "cell_type": "markdown",
   "id": "d218e994",
   "metadata": {},
   "source": [
    "We need to convert the text data into a format more suitable for use with machine learning algorithms.<br>\n",
    "Since we aim for two different feature sets, the process will be split."
   ]
  },
  {
   "cell_type": "markdown",
   "id": "4d150cfb",
   "metadata": {},
   "source": [
    "## Basic Preprocessing"
   ]
  },
  {
   "cell_type": "markdown",
   "id": "b4ec2d8f",
   "metadata": {},
   "source": [
    "These processeses should happen to all the feature sets."
   ]
  },
  {
   "cell_type": "markdown",
   "id": "a077db38",
   "metadata": {},
   "source": [
    "### Replacing addresses"
   ]
  },
  {
   "cell_type": "markdown",
   "id": "08ee0a83",
   "metadata": {},
   "source": [
    "As is obvious from the examples, a lot of the emails contain either **web addresses** (URLs) or **email addresses** that need to be removed in order for the frequency of certain domains to not influence the results.<br>\n",
    "In order for this information to not get completely lost however, those addresses will be replaced by the strings `'<urladdress>'` and `'<emailaddress>'` respectively. Those strings are chosen because they do not occur normally in the emails."
   ]
  },
  {
   "cell_type": "code",
   "execution_count": 13,
   "id": "aa39079c",
   "metadata": {
    "ExecuteTime": {
     "end_time": "2023-11-26T12:35:41.248004Z",
     "start_time": "2023-11-26T12:35:38.980499Z"
    }
   },
   "outputs": [],
   "source": [
    "balanced['body'] = balanced['body'].apply(util.replace_email)\n",
    "balanced['body'] = balanced['body'].apply(util.replace_url)"
   ]
  },
  {
   "cell_type": "code",
   "execution_count": 14,
   "id": "dcb46d0f",
   "metadata": {
    "ExecuteTime": {
     "end_time": "2023-11-26T12:35:51.486608Z",
     "start_time": "2023-11-26T12:35:41.261275Z"
    }
   },
   "outputs": [],
   "source": [
    "imbalanced['body'] = imbalanced['body'].apply(util.replace_email)\n",
    "imbalanced['body'] = imbalanced['body'].apply(util.replace_url)"
   ]
  },
  {
   "cell_type": "code",
   "execution_count": 15,
   "id": "4688ed33",
   "metadata": {
    "ExecuteTime": {
     "end_time": "2023-11-26T12:35:51.501321Z",
     "start_time": "2023-11-26T12:35:51.487616Z"
    }
   },
   "outputs": [
    {
     "name": "stdout",
     "output_type": "stream",
     "text": [
      "\r\n",
      "\r\n",
      "\r\n",
      "[image]\r\n",
      "\r\n",
      "\r\n",
      "Dispatch Confirmation\r\n",
      "\r\n",
      "  ID # LKG03-35352272\r\n",
      "\r\n",
      "Hello <emailaddress><mailto:<emailaddress>>,\r\n",
      "\r\n",
      "\r\n",
      "Your recent order ( MacBook Pro) with us has been placed successfully!\r\n",
      "\r\n",
      "The estimated delivery date is based on the handling time and the warehouse processing time. In certain cases, the estimated delivery date will vary.\r\n",
      "\r\n",
      "You can check all the details for your order below. Thank you again for ordering from amazon.\r\n",
      "\r\n",
      "Order Helpdesk : (800) 655-6099\r\n",
      "\r\n",
      "\r\n",
      "Delivery by:\r\n",
      "\r\n",
      "Thursday, June 10\r\n",
      "\r\n",
      "\r\n",
      "\r\n",
      "Your package was shipped to:\r\n",
      "\r\n",
      "Justin K\r\n",
      "12321 W Doris Dr, Odessa,\r\n",
      "\r\n",
      "TX 79764, USA\r\n",
      "\r\n",
      "Your item(s) is (are) being sent by Priority Delivery Services.\r\n",
      "\r\n",
      "Order summary\r\n",
      "\r\n",
      "Item Subtotal:\r\n",
      "\r\n",
      "$ 1545.90\r\n",
      "\r\n",
      "Shipping & Handling:\r\n",
      "\r\n",
      "Rs.0.00\r\n",
      "\r\n",
      "Shipment Total:\r\n",
      "\r\n",
      "$1545.90\r\n",
      "\r\n",
      "P.S. If you haven't placed this order, Reach Account Support  Immediately on  (800) 655-6099\r\n",
      "\r\n",
      "We hope to see you again soon!\r\n",
      "\r\n",
      "\r\n",
      "This email was sent from a notification-only address that cannot accept incoming email. Please do not reply to this message.\r\n",
      "\r\n",
      "\r\n",
      "\n",
      "Dispatch Confirmation\n",
      "ID \r\n",
      "# LKG03-35352272\n",
      "Hello\r\n",
      "<emailaddress><mailto:<emailaddress>>,\n",
      "Your recent order ( MacBook Pro) with us has been placed successfully!\n",
      "The estimated delivery date is based on the handling time and the warehouse processing time. In certain cases, the estimated delivery date will vary.\n",
      "You can check all the details for your order below. Thank you again for ordering from amazon.\n",
      "Order Helpdesk :\r\n",
      " (800) 655-6099\n",
      "Delivery by:\n",
      "Thursday, June 10\n",
      "Your package was shipped to:\n",
      "Justin K\n",
      "12321 W Doris Dr, Odessa,\n",
      "TX 79764, USA\n",
      "Your item(s) is (are) being sent by Priority Delivery Services.\n",
      "Order summary\n",
      "Item Subtotal:\n",
      "$ 1545.90\n",
      "Shipping & Handling:\n",
      "Rs.0.00\n",
      "Shipment Total:\n",
      "$1545.90\n",
      "P.S. If you haven't placed this order, Reach Account Support  Immediately on  (800) 655-6099\n",
      "We hope to see you again soon!\n",
      "This email was sent from a notification-only address that cannot accept incoming email. Please do not reply to this message.\n"
     ]
    }
   ],
   "source": [
    "print(balanced['body'].iloc[6])"
   ]
  },
  {
   "cell_type": "code",
   "execution_count": 16,
   "id": "1bc5e011",
   "metadata": {
    "ExecuteTime": {
     "end_time": "2023-11-26T12:35:51.527291Z",
     "start_time": "2023-11-26T12:35:51.502318Z"
    },
    "scrolled": true
   },
   "outputs": [
    {
     "name": "stdout",
     "output_type": "stream",
     "text": [
      "\n",
      "\n",
      "\n",
      "\n",
      "Notice of Policy Updates\n",
      "\n",
      "\n",
      "Dear Customer,\n",
      "\n",
      "Some information on your account appears to be missing or incorrect.\n",
      "Please update your information promptly so that you can continue to enjoy all the benefits of your PayPal account.\n",
      "If you don't update your information within 3 days, we'll limit what you can do with your PayPal account.\n",
      "\n",
      "Click Here\n",
      "\n",
      "If you need help logging in, go to our Help Center by clicking the Help link located in the upper right-hand corner of any PayPal page.\n",
      "\n",
      "Sincerely,\n",
      "\n",
      "\n",
      "Copyright © 2015 PayPal Inc. All rights reserved. PayPal is located at 2211 N. First St., San Jose, CA 95131.\n",
      "\n",
      "Notice of Policy \n",
      "                  Updates\n",
      "Dear Customer,\n",
      "Some information \n",
      "      on your account appears to be missing or incorrect.\n",
      "Please update your information promptly so that \n",
      "      you can continue to enjoy all the benefits of your PayPal account.\n",
      "If you don't update your information within 3 \n",
      "      days, we'll limit what you can do with your PayPal \n",
      "      account.\n",
      "Click Here<<urladdress>>\n",
      "If you need help logging in, go to our Help \n",
      "      Center by clicking the Help link located in the upper right-hand corner of \n",
      "      any PayPal page.\n",
      "Sincerely,\n",
      "Copyright \n",
      "            © 2015 PayPal Inc. All rights reserved. PayPal is located at 2211 N. \n",
      "            First St., San Jose, CA 95131.\n"
     ]
    }
   ],
   "source": [
    "print(balanced['body'].iloc[17])"
   ]
  },
  {
   "cell_type": "markdown",
   "id": "69ae4906",
   "metadata": {},
   "source": [
    "The examples show that the URLs and email addresses have indeed been anonymized now."
   ]
  },
  {
   "cell_type": "markdown",
   "id": "35f4eab8",
   "metadata": {},
   "source": [
    "## Preprocessing for content features"
   ]
  },
  {
   "cell_type": "markdown",
   "id": "f7380f67",
   "metadata": {},
   "source": [
    "This preprocessing is necessary in order to convert the text strings to lists of words, that will be vectorized in order to be used by machine learning algorithms."
   ]
  },
  {
   "cell_type": "code",
   "execution_count": 17,
   "id": "c2a3564e",
   "metadata": {
    "ExecuteTime": {
     "end_time": "2023-11-26T12:35:51.531279Z",
     "start_time": "2023-11-26T12:35:51.518321Z"
    }
   },
   "outputs": [],
   "source": [
    "balanced_tokens = balanced.copy()\n",
    "imbalanced_tokens = imbalanced.copy()"
   ]
  },
  {
   "cell_type": "markdown",
   "id": "b8eaa3ce",
   "metadata": {},
   "source": [
    "### Tokenization and stopword removal"
   ]
  },
  {
   "cell_type": "markdown",
   "id": "af826c32",
   "metadata": {},
   "source": [
    "Tokenization is the process of splitting text into individual words. This is useful because generally speaking, the meaning of the text can easily be interpreted by analyzing the words present in the text.<br>\n",
    "Along with this process, letters are also converted to lowercase and punctuation or other special characters are removed.<br>\n",
    "Since there are some words (called **stopwords**) that do not contribute very much in meaning (like pronouns or simple verbs), they can be removed to reduce the noise."
   ]
  },
  {
   "cell_type": "code",
   "execution_count": 18,
   "id": "9e82c0e5",
   "metadata": {
    "ExecuteTime": {
     "end_time": "2023-11-26T12:35:59.064187Z",
     "start_time": "2023-11-26T12:35:51.536261Z"
    }
   },
   "outputs": [],
   "source": [
    "balanced_tokens['body'] = balanced_tokens['body'].apply(util.tokenize)\n",
    "balanced_tokens['body'] = balanced_tokens['body'].apply(util.remove_stopwords)"
   ]
  },
  {
   "cell_type": "code",
   "execution_count": 19,
   "id": "ab3feb81",
   "metadata": {
    "ExecuteTime": {
     "end_time": "2023-11-26T12:36:40.153831Z",
     "start_time": "2023-11-26T12:35:59.065240Z"
    }
   },
   "outputs": [],
   "source": [
    "imbalanced_tokens['body'] = imbalanced_tokens['body'].apply(util.tokenize)\n",
    "imbalanced_tokens['body'] = imbalanced_tokens['body'].apply(util.remove_stopwords)"
   ]
  },
  {
   "cell_type": "code",
   "execution_count": 20,
   "id": "5f61b871",
   "metadata": {
    "ExecuteTime": {
     "end_time": "2023-11-26T12:36:40.169767Z",
     "start_time": "2023-11-26T12:36:40.155830Z"
    }
   },
   "outputs": [
    {
     "name": "stdout",
     "output_type": "stream",
     "text": [
      "['image', 'dispatch', 'confirmation', 'id', 'lkg03-35352272', 'hello', 'emailaddress', 'mailto', 'emailaddress', 'recent', 'order', 'macbook', 'pro', 'us', 'placed', 'successfully', 'estimated', 'delivery', 'date', 'based', 'handling', 'time', 'warehouse', 'processing', 'time', 'certain', 'cases', 'estimated', 'delivery', 'date', 'vary', 'check', 'details', 'order', 'thank', 'ordering', 'amazon', 'order', 'helpdesk', '800', '655-6099', 'delivery', 'thursday', 'june', '10', 'package', 'shipped', 'justin', 'k', '12321', 'w', 'doris', 'dr', 'odessa', 'tx', '79764', 'usa', 'item', 'sent', 'priority', 'delivery', 'services', 'order', 'summary', 'item', 'subtotal', 'shipping', 'handling', 'shipment', 'total', 'placed', 'order', 'reach', 'account', 'support', 'immediately', '800', '655-6099', 'hope', 'see', 'soon', 'email', 'sent', 'notification-only', 'address', 'accept', 'incoming', 'email', 'please', 'reply', 'message', 'dispatch', 'confirmation', 'id', 'lkg03-35352272', 'hello', 'emailaddress', 'mailto', 'emailaddress', 'recent', 'order', 'macbook', 'pro', 'us', 'placed', 'successfully', 'estimated', 'delivery', 'date', 'based', 'handling', 'time', 'warehouse', 'processing', 'time', 'certain', 'cases', 'estimated', 'delivery', 'date', 'vary', 'check', 'details', 'order', 'thank', 'ordering', 'amazon', 'order', 'helpdesk', '800', '655-6099', 'delivery', 'thursday', 'june', '10', 'package', 'shipped', 'justin', 'k', '12321', 'w', 'doris', 'dr', 'odessa', 'tx', '79764', 'usa', 'item', 'sent', 'priority', 'delivery', 'services', 'order', 'summary', 'item', 'subtotal', 'shipping', 'handling', 'shipment', 'total', 'placed', 'order', 'reach', 'account', 'support', 'immediately', '800', '655-6099', 'hope', 'see', 'soon', 'email', 'sent', 'notification-only', 'address', 'accept', 'incoming', 'email', 'please', 'reply', 'message']\n"
     ]
    }
   ],
   "source": [
    "print(balanced_tokens['body'].iloc[6])"
   ]
  },
  {
   "cell_type": "code",
   "execution_count": 21,
   "id": "7ca5af98",
   "metadata": {
    "ExecuteTime": {
     "end_time": "2023-11-26T12:36:40.198229Z",
     "start_time": "2023-11-26T12:36:40.171747Z"
    },
    "scrolled": true
   },
   "outputs": [
    {
     "name": "stdout",
     "output_type": "stream",
     "text": [
      "['notice', 'policy', 'updates', 'dear', 'customer', 'information', 'account', 'appears', 'missing', 'incorrect', 'please', 'update', 'information', 'promptly', 'continue', 'enjoy', 'benefits', 'paypal', 'account', 'update', 'information', 'within', '3', 'days', 'limit', 'paypal', 'account', 'click', 'need', 'help', 'logging', 'go', 'help', 'center', 'clicking', 'help', 'link', 'located', 'upper', 'right-hand', 'corner', 'paypal', 'page', 'sincerely', 'copyright', '2015', 'paypal', 'rights', 'reserved', 'paypal', 'located', '2211', 'first', 'san', 'jose', 'ca', 'notice', 'policy', 'updates', 'dear', 'customer', 'information', 'account', 'appears', 'missing', 'incorrect', 'please', 'update', 'information', 'promptly', 'continue', 'enjoy', 'benefits', 'paypal', 'account', 'update', 'information', 'within', '3', 'days', 'limit', 'paypal', 'account', 'click', 'urladdress', 'need', 'help', 'logging', 'go', 'help', 'center', 'clicking', 'help', 'link', 'located', 'upper', 'right-hand', 'corner', 'paypal', 'page', 'sincerely', 'copyright', '2015', 'paypal', 'rights', 'reserved', 'paypal', 'located', '2211', 'first', 'san', 'jose', 'ca', '95131']\n"
     ]
    }
   ],
   "source": [
    "print(balanced_tokens['body'].iloc[17])"
   ]
  },
  {
   "cell_type": "markdown",
   "id": "2ceb8fa7",
   "metadata": {},
   "source": [
    "The example shows how a quite big chunk of text was reduced to a smaller list that contains the more meaningful words. The addresses still exist as tokens ('urladdress').<br>\n",
    "Also, some emails with duplicate emails obviously will have duplicate tokens, this however is not a big issue with most vectorizers."
   ]
  },
  {
   "cell_type": "markdown",
   "id": "7990fbe3",
   "metadata": {},
   "source": [
    "### Lemmatization with POS tagging"
   ]
  },
  {
   "cell_type": "markdown",
   "id": "5bfef13a",
   "metadata": {},
   "source": [
    "Lemmatization is the process that reduces the inflectional forms of a word to keep its root form. This is useful because the set of words that results from this process is smaller because all the inflections of a word are converted to one, thus reducing the dimensionality without sacrificing information.<br>\n",
    "In order to facilitate and improve the lemmatization, the **part-of-speech tagging** technique has been used. The POS of the word (which indicates whether a word is a noun, a verb, an adjective, or an adverb) is used as a part of the process."
   ]
  },
  {
   "cell_type": "code",
   "execution_count": 22,
   "id": "2c57d251",
   "metadata": {
    "ExecuteTime": {
     "end_time": "2023-11-26T12:37:07.124122Z",
     "start_time": "2023-11-26T12:36:40.187266Z"
    }
   },
   "outputs": [],
   "source": [
    "balanced_tokens['body'] = balanced_tokens['body'].apply(util.lemmatize)"
   ]
  },
  {
   "cell_type": "code",
   "execution_count": 23,
   "id": "9614d4f3",
   "metadata": {
    "ExecuteTime": {
     "end_time": "2023-11-26T12:39:47.453607Z",
     "start_time": "2023-11-26T12:37:07.126116Z"
    },
    "scrolled": true
   },
   "outputs": [],
   "source": [
    "imbalanced_tokens['body'] = imbalanced_tokens['body'].apply(util.lemmatize)"
   ]
  },
  {
   "cell_type": "code",
   "execution_count": 24,
   "id": "266439a9",
   "metadata": {
    "ExecuteTime": {
     "end_time": "2023-11-26T12:39:47.470071Z",
     "start_time": "2023-11-26T12:39:47.454603Z"
    }
   },
   "outputs": [
    {
     "name": "stdout",
     "output_type": "stream",
     "text": [
      "['image', 'dispatch', 'confirmation', 'id', 'lkg03-35352272', 'hello', 'emailaddress', 'mailto', 'emailaddress', 'recent', 'order', 'macbook', 'pro', 'u', 'place', 'successfully', 'estimate', 'delivery', 'date', 'base', 'handling', 'time', 'warehouse', 'process', 'time', 'certain', 'case', 'estimate', 'delivery', 'date', 'vary', 'check', 'detail', 'order', 'thank', 'order', 'amazon', 'order', 'helpdesk', '800', '655-6099', 'delivery', 'thursday', 'june', '10', 'package', 'ship', 'justin', 'k', '12321', 'w', 'doris', 'dr', 'odessa', 'tx', '79764', 'usa', 'item', 'send', 'priority', 'delivery', 'service', 'order', 'summary', 'item', 'subtotal', 'shipping', 'handle', 'shipment', 'total', 'place', 'order', 'reach', 'account', 'support', 'immediately', '800', '655-6099', 'hope', 'see', 'soon', 'email', 'send', 'notification-only', 'address', 'accept', 'incoming', 'email', 'please', 'reply', 'message', 'dispatch', 'confirmation', 'id', 'lkg03-35352272', 'hello', 'emailaddress', 'mailto', 'emailaddress', 'recent', 'order', 'macbook', 'pro', 'u', 'place', 'successfully', 'estimate', 'delivery', 'date', 'base', 'handling', 'time', 'warehouse', 'process', 'time', 'certain', 'case', 'estimate', 'delivery', 'date', 'vary', 'check', 'detail', 'order', 'thank', 'order', 'amazon', 'order', 'helpdesk', '800', '655-6099', 'delivery', 'thursday', 'june', '10', 'package', 'ship', 'justin', 'k', '12321', 'w', 'doris', 'dr', 'odessa', 'tx', '79764', 'usa', 'item', 'send', 'priority', 'delivery', 'service', 'order', 'summary', 'item', 'subtotal', 'shipping', 'handle', 'shipment', 'total', 'place', 'order', 'reach', 'account', 'support', 'immediately', '800', '655-6099', 'hope', 'see', 'soon', 'email', 'send', 'notification-only', 'address', 'accept', 'incoming', 'email', 'please', 'reply', 'message']\n"
     ]
    }
   ],
   "source": [
    "print(balanced_tokens['body'].iloc[6])"
   ]
  },
  {
   "cell_type": "markdown",
   "id": "f4126b97",
   "metadata": {},
   "source": [
    "The example shows how the lemmatization process has worked: words like 'holding' have been converted to their root form 'hold'.<br>\n",
    "In addition, it also shows the working of the POS tagging process, since the word 'incoming' has remained the same as it is used as an adjective and not as a verb."
   ]
  },
  {
   "cell_type": "markdown",
   "id": "f185409f",
   "metadata": {},
   "source": [
    "## Preprocessing for style features"
   ]
  },
  {
   "cell_type": "markdown",
   "id": "bc4e69a3",
   "metadata": {},
   "source": [
    "This preprocessing is necessary in order to sanitize the raw email text and remove parsing artifacts, so that the stylometric features work better."
   ]
  },
  {
   "cell_type": "code",
   "execution_count": 25,
   "id": "690aa532",
   "metadata": {
    "ExecuteTime": {
     "end_time": "2023-11-26T12:39:47.545723Z",
     "start_time": "2023-11-26T12:39:47.472066Z"
    }
   },
   "outputs": [],
   "source": [
    "balanced_text = balanced.copy()\n",
    "imbalanced_text = imbalanced.copy()"
   ]
  },
  {
   "cell_type": "markdown",
   "id": "0402c83f",
   "metadata": {},
   "source": [
    "### Whitespace Sanitization"
   ]
  },
  {
   "cell_type": "markdown",
   "id": "52b6f886",
   "metadata": {},
   "source": [
    "The first task should be stripping away any leading and trailing whitespace. In addition, newlines that only contain a dot are most likely artifacts from the parsing of HTML and can thus be removed with this dot placed at the previous line."
   ]
  },
  {
   "cell_type": "code",
   "execution_count": 26,
   "id": "49bdc214",
   "metadata": {
    "ExecuteTime": {
     "end_time": "2023-11-26T12:39:47.557572Z",
     "start_time": "2023-11-26T12:39:47.486722Z"
    }
   },
   "outputs": [],
   "source": [
    "balanced_text['body'] = balanced_text['body'].apply(util.sanitize_whitespace)"
   ]
  },
  {
   "cell_type": "code",
   "execution_count": 27,
   "id": "9b7e101e",
   "metadata": {
    "ExecuteTime": {
     "end_time": "2023-11-26T12:39:47.710344Z",
     "start_time": "2023-11-26T12:39:47.550026Z"
    }
   },
   "outputs": [],
   "source": [
    "imbalanced_text['body'] = imbalanced_text['body'].apply(util.sanitize_whitespace)"
   ]
  },
  {
   "cell_type": "markdown",
   "id": "7ddc23d2",
   "metadata": {},
   "source": [
    "### Address Sanitization"
   ]
  },
  {
   "cell_type": "markdown",
   "id": "48f21820",
   "metadata": {},
   "source": [
    "There are also artifacts from the URL/email anonymization that while innocent with tokenized texts, they are more harmful when the number of special characters in the text matters."
   ]
  },
  {
   "cell_type": "code",
   "execution_count": 28,
   "id": "c8336b04",
   "metadata": {
    "ExecuteTime": {
     "end_time": "2023-11-26T12:39:47.861497Z",
     "start_time": "2023-11-26T12:39:47.706266Z"
    }
   },
   "outputs": [],
   "source": [
    "balanced_text['body'] = balanced_text['body'].apply(util.sanitize_addresses)"
   ]
  },
  {
   "cell_type": "code",
   "execution_count": 29,
   "id": "7974fae3",
   "metadata": {
    "ExecuteTime": {
     "end_time": "2023-11-26T12:39:48.583268Z",
     "start_time": "2023-11-26T12:39:47.863491Z"
    }
   },
   "outputs": [],
   "source": [
    "imbalanced_text['body'] = imbalanced_text['body'].apply(util.sanitize_addresses)"
   ]
  },
  {
   "cell_type": "markdown",
   "id": "26fdec48",
   "metadata": {},
   "source": [
    "One of the previous examples looks better now."
   ]
  },
  {
   "cell_type": "code",
   "execution_count": 30,
   "id": "9738e9bc",
   "metadata": {
    "ExecuteTime": {
     "end_time": "2023-11-26T12:39:48.599297Z",
     "start_time": "2023-11-26T12:39:48.584264Z"
    },
    "scrolled": true
   },
   "outputs": [
    {
     "name": "stdout",
     "output_type": "stream",
     "text": [
      "[image]\r\n",
      "\r\n",
      "\r\n",
      "Dispatch Confirmation\r\n",
      "\r\n",
      "  ID # LKG03-35352272\r\n",
      "\r\n",
      "Hello <emailaddress><mailto:<emailaddress>,\r\n",
      "\r\n",
      "\r\n",
      "Your recent order ( MacBook Pro) with us has been placed successfully!\r\n",
      "\r\n",
      "The estimated delivery date is based on the handling time and the warehouse processing time. In certain cases, the estimated delivery date will vary.\r\n",
      "\r\n",
      "You can check all the details for your order below. Thank you again for ordering from amazon.\r\n",
      "\r\n",
      "Order Helpdesk : (800) 655-6099\r\n",
      "\r\n",
      "\r\n",
      "Delivery by:\r\n",
      "\r\n",
      "Thursday, June 10\r\n",
      "\r\n",
      "\r\n",
      "\r\n",
      "Your package was shipped to:\r\n",
      "\r\n",
      "Justin K\r\n",
      "12321 W Doris Dr, Odessa,\r\n",
      "\r\n",
      "TX 79764, USA\r\n",
      "\r\n",
      "Your item(s) is (are) being sent by Priority Delivery Services.\r\n",
      "\r\n",
      "Order summary\r\n",
      "\r\n",
      "Item Subtotal:\r\n",
      "\r\n",
      "$ 1545.90\r\n",
      "\r\n",
      "Shipping & Handling:\r\n",
      "\r\n",
      "Rs.0.00\r\n",
      "\r\n",
      "Shipment Total:\r\n",
      "\r\n",
      "$1545.90\r\n",
      "\r\n",
      "P.S. If you haven't placed this order, Reach Account Support  Immediately on  (800) 655-6099\r\n",
      "\r\n",
      "We hope to see you again soon!\r\n",
      "\r\n",
      "\r\n",
      "This email was sent from a notification-only address that cannot accept incoming email. Please do not reply to this message.\r\n",
      "\r\n",
      "\r\n",
      "\n",
      "Dispatch Confirmation\n",
      "ID \r\n",
      "# LKG03-35352272\n",
      "Hello\r\n",
      "<emailaddress><mailto:<emailaddress>,\n",
      "Your recent order ( MacBook Pro) with us has been placed successfully!\n",
      "The estimated delivery date is based on the handling time and the warehouse processing time. In certain cases, the estimated delivery date will vary.\n",
      "You can check all the details for your order below. Thank you again for ordering from amazon.\n",
      "Order Helpdesk :\r\n",
      " (800) 655-6099\n",
      "Delivery by:\n",
      "Thursday, June 10\n",
      "Your package was shipped to:\n",
      "Justin K\n",
      "12321 W Doris Dr, Odessa,\n",
      "TX 79764, USA\n",
      "Your item(s) is (are) being sent by Priority Delivery Services.\n",
      "Order summary\n",
      "Item Subtotal:\n",
      "$ 1545.90\n",
      "Shipping & Handling:\n",
      "Rs.0.00\n",
      "Shipment Total:\n",
      "$1545.90\n",
      "P.S. If you haven't placed this order, Reach Account Support  Immediately on  (800) 655-6099\n",
      "We hope to see you again soon!\n",
      "This email was sent from a notification-only address that cannot accept incoming email. Please do not reply to this message.\n"
     ]
    }
   ],
   "source": [
    "print(balanced_text['body'].iloc[6])"
   ]
  },
  {
   "cell_type": "markdown",
   "id": "fa36d41d",
   "metadata": {},
   "source": [
    "## Deleting Empty Rows"
   ]
  },
  {
   "cell_type": "markdown",
   "id": "97905672",
   "metadata": {},
   "source": [
    "After all the preprocessing, it is possible that some of the emails are now empty (because they did not contain any useful words from the beginning).<br>\n",
    "So, these have to be removed to keep the data clean."
   ]
  },
  {
   "cell_type": "code",
   "execution_count": 31,
   "id": "e23a248a",
   "metadata": {
    "ExecuteTime": {
     "end_time": "2023-11-26T12:39:48.673051Z",
     "start_time": "2023-11-26T12:39:48.601291Z"
    }
   },
   "outputs": [
    {
     "name": "stdout",
     "output_type": "stream",
     "text": [
      "<class 'pandas.core.frame.DataFrame'>\n",
      "Int64Index: 3589 entries, 0 to 3599\n",
      "Data columns (total 3 columns):\n",
      " #   Column  Non-Null Count  Dtype \n",
      "---  ------  --------------  ----- \n",
      " 0   id      3589 non-null   int16 \n",
      " 1   body    3589 non-null   object\n",
      " 2   class   3589 non-null   bool  \n",
      "dtypes: bool(1), int16(1), object(1)\n",
      "memory usage: 66.6+ KB\n"
     ]
    }
   ],
   "source": [
    "balanced_tokens = balanced_tokens[balanced_tokens['body'].astype(bool)]\n",
    "balanced_tokens.info()"
   ]
  },
  {
   "cell_type": "code",
   "execution_count": 32,
   "id": "eead276f",
   "metadata": {
    "ExecuteTime": {
     "end_time": "2023-11-26T12:39:48.683029Z",
     "start_time": "2023-11-26T12:39:48.617238Z"
    }
   },
   "outputs": [
    {
     "name": "stdout",
     "output_type": "stream",
     "text": [
      "<class 'pandas.core.frame.DataFrame'>\n",
      "Int64Index: 18724 entries, 0 to 18791\n",
      "Data columns (total 3 columns):\n",
      " #   Column  Non-Null Count  Dtype \n",
      "---  ------  --------------  ----- \n",
      " 0   id      18724 non-null  int16 \n",
      " 1   body    18724 non-null  object\n",
      " 2   class   18724 non-null  bool  \n",
      "dtypes: bool(1), int16(1), object(1)\n",
      "memory usage: 347.4+ KB\n"
     ]
    }
   ],
   "source": [
    "imbalanced_tokens = imbalanced_tokens[imbalanced_tokens['body'].astype(bool)]\n",
    "imbalanced_tokens.info()"
   ]
  },
  {
   "cell_type": "code",
   "execution_count": 33,
   "id": "033a485e",
   "metadata": {
    "ExecuteTime": {
     "end_time": "2023-11-26T12:39:48.684024Z",
     "start_time": "2023-11-26T12:39:48.646141Z"
    }
   },
   "outputs": [
    {
     "name": "stdout",
     "output_type": "stream",
     "text": [
      "<class 'pandas.core.frame.DataFrame'>\n",
      "Int64Index: 3599 entries, 0 to 3599\n",
      "Data columns (total 3 columns):\n",
      " #   Column  Non-Null Count  Dtype \n",
      "---  ------  --------------  ----- \n",
      " 0   id      3599 non-null   int16 \n",
      " 1   body    3599 non-null   object\n",
      " 2   class   3599 non-null   bool  \n",
      "dtypes: bool(1), int16(1), object(1)\n",
      "memory usage: 66.8+ KB\n"
     ]
    }
   ],
   "source": [
    "balanced_text = balanced_text[balanced_text['body'].astype(bool)]\n",
    "balanced_text.info()"
   ]
  },
  {
   "cell_type": "code",
   "execution_count": 34,
   "id": "f82de1d4",
   "metadata": {
    "ExecuteTime": {
     "end_time": "2023-11-26T12:39:48.692995Z",
     "start_time": "2023-11-26T12:39:48.662096Z"
    }
   },
   "outputs": [
    {
     "name": "stdout",
     "output_type": "stream",
     "text": [
      "<class 'pandas.core.frame.DataFrame'>\n",
      "Int64Index: 18791 entries, 0 to 18791\n",
      "Data columns (total 3 columns):\n",
      " #   Column  Non-Null Count  Dtype \n",
      "---  ------  --------------  ----- \n",
      " 0   id      18791 non-null  int16 \n",
      " 1   body    18791 non-null  object\n",
      " 2   class   18791 non-null  bool  \n",
      "dtypes: bool(1), int16(1), object(1)\n",
      "memory usage: 348.7+ KB\n"
     ]
    }
   ],
   "source": [
    "imbalanced_text = imbalanced_text[imbalanced_text['body'].astype(bool)]\n",
    "imbalanced_text.info()"
   ]
  },
  {
   "cell_type": "markdown",
   "id": "941f335a",
   "metadata": {},
   "source": [
    "In order to have the same emails in both feature sets, the text dataset will be filtered according to the tokenized one."
   ]
  },
  {
   "cell_type": "code",
   "execution_count": 35,
   "id": "d6a0771c",
   "metadata": {
    "ExecuteTime": {
     "end_time": "2023-11-26T12:39:48.765389Z",
     "start_time": "2023-11-26T12:39:48.691998Z"
    }
   },
   "outputs": [
    {
     "name": "stdout",
     "output_type": "stream",
     "text": [
      "<class 'pandas.core.frame.DataFrame'>\n",
      "Int64Index: 3589 entries, 0 to 3599\n",
      "Data columns (total 3 columns):\n",
      " #   Column  Non-Null Count  Dtype \n",
      "---  ------  --------------  ----- \n",
      " 0   id      3589 non-null   int16 \n",
      " 1   body    3589 non-null   object\n",
      " 2   class   3589 non-null   bool  \n",
      "dtypes: bool(1), int16(1), object(1)\n",
      "memory usage: 66.6+ KB\n"
     ]
    }
   ],
   "source": [
    "balanced_text = balanced_text[balanced_text['id'].isin(balanced_tokens['id'])]\n",
    "balanced_text.info()"
   ]
  },
  {
   "cell_type": "code",
   "execution_count": 36,
   "id": "2be98f3c",
   "metadata": {
    "ExecuteTime": {
     "end_time": "2023-11-26T12:39:48.766594Z",
     "start_time": "2023-11-26T12:39:48.707946Z"
    },
    "scrolled": true
   },
   "outputs": [
    {
     "name": "stdout",
     "output_type": "stream",
     "text": [
      "<class 'pandas.core.frame.DataFrame'>\n",
      "Int64Index: 18724 entries, 0 to 18791\n",
      "Data columns (total 3 columns):\n",
      " #   Column  Non-Null Count  Dtype \n",
      "---  ------  --------------  ----- \n",
      " 0   id      18724 non-null  int16 \n",
      " 1   body    18724 non-null  object\n",
      " 2   class   18724 non-null  bool  \n",
      "dtypes: bool(1), int16(1), object(1)\n",
      "memory usage: 347.4+ KB\n"
     ]
    }
   ],
   "source": [
    "imbalanced_text = imbalanced_text[imbalanced_text['id'].isin(imbalanced_tokens['id'])]\n",
    "imbalanced_text.info()"
   ]
  },
  {
   "cell_type": "markdown",
   "id": "7d85c6b2",
   "metadata": {},
   "source": [
    "Check for any discrepancies:"
   ]
  },
  {
   "cell_type": "code",
   "execution_count": 37,
   "id": "42782385",
   "metadata": {
    "ExecuteTime": {
     "end_time": "2023-11-26T12:39:48.780679Z",
     "start_time": "2023-11-26T12:39:48.748713Z"
    }
   },
   "outputs": [
    {
     "data": {
      "text/plain": [
       "False"
      ]
     },
     "execution_count": 37,
     "metadata": {},
     "output_type": "execute_result"
    }
   ],
   "source": [
    "(balanced_text['id'] != balanced_tokens['id']).any() and (imbalanced_text['id'] != imbalanced_tokens['id']).any()"
   ]
  },
  {
   "cell_type": "markdown",
   "id": "d3995df5",
   "metadata": {},
   "source": [
    "## Train-Test Split"
   ]
  },
  {
   "cell_type": "markdown",
   "id": "171b751f",
   "metadata": {},
   "source": [
    "In order to evaluate the classification process, only 80% of the data will be used to train the models. The remaining 20%, which will be unknown to the algorithms, will be used to test the performance of the classifiers on unknown data."
   ]
  },
  {
   "cell_type": "markdown",
   "id": "a35232cc",
   "metadata": {},
   "source": [
    "### Tokens"
   ]
  },
  {
   "cell_type": "code",
   "execution_count": 38,
   "id": "3bff283a",
   "metadata": {
    "ExecuteTime": {
     "end_time": "2023-11-26T12:39:48.789735Z",
     "start_time": "2023-11-26T12:39:48.769859Z"
    }
   },
   "outputs": [],
   "source": [
    "train_balanced_tokens, test_balanced_tokens = util.dataset_split(balanced_tokens, percent=20)"
   ]
  },
  {
   "cell_type": "code",
   "execution_count": 39,
   "id": "782451e7",
   "metadata": {
    "ExecuteTime": {
     "end_time": "2023-11-26T12:39:48.858185Z",
     "start_time": "2023-11-26T12:39:48.784751Z"
    }
   },
   "outputs": [],
   "source": [
    "train_imbalanced_tokens, test_imbalanced_tokens = util.dataset_split(imbalanced_tokens, percent=20)"
   ]
  },
  {
   "cell_type": "code",
   "execution_count": 40,
   "id": "d2b1f4d3",
   "metadata": {
    "ExecuteTime": {
     "end_time": "2023-11-26T12:39:48.868818Z",
     "start_time": "2023-11-26T12:39:48.799469Z"
    },
    "scrolled": true
   },
   "outputs": [
    {
     "data": {
      "text/html": [
       "<div>\n",
       "<style scoped>\n",
       "    .dataframe tbody tr th:only-of-type {\n",
       "        vertical-align: middle;\n",
       "    }\n",
       "\n",
       "    .dataframe tbody tr th {\n",
       "        vertical-align: top;\n",
       "    }\n",
       "\n",
       "    .dataframe thead th {\n",
       "        text-align: right;\n",
       "    }\n",
       "</style>\n",
       "<table border=\"1\" class=\"dataframe\">\n",
       "  <thead>\n",
       "    <tr style=\"text-align: right;\">\n",
       "      <th></th>\n",
       "      <th>id</th>\n",
       "      <th>body</th>\n",
       "      <th>class</th>\n",
       "    </tr>\n",
       "  </thead>\n",
       "  <tbody>\n",
       "    <tr>\n",
       "      <th>2228</th>\n",
       "      <td>6</td>\n",
       "      <td>[image, dispatch, confirmation, id, lkg03-35352272, hello, emailaddress, mailto, emailaddress, recent, order, macbook, pro, u, place, successfully, estimate...</td>\n",
       "      <td>True</td>\n",
       "    </tr>\n",
       "  </tbody>\n",
       "</table>\n",
       "</div>"
      ],
      "text/plain": [
       "      id  \\\n",
       "2228   6   \n",
       "\n",
       "                                                                                                                                                                 body  \\\n",
       "2228  [image, dispatch, confirmation, id, lkg03-35352272, hello, emailaddress, mailto, emailaddress, recent, order, macbook, pro, u, place, successfully, estimate...   \n",
       "\n",
       "      class  \n",
       "2228   True  "
      ]
     },
     "execution_count": 40,
     "metadata": {},
     "output_type": "execute_result"
    }
   ],
   "source": [
    "train_balanced_tokens[train_balanced_tokens['id'] == 6]"
   ]
  },
  {
   "cell_type": "code",
   "execution_count": 41,
   "id": "f3202506",
   "metadata": {
    "ExecuteTime": {
     "end_time": "2023-11-26T12:39:48.869908Z",
     "start_time": "2023-11-26T12:39:48.815063Z"
    },
    "scrolled": true
   },
   "outputs": [
    {
     "data": {
      "text/html": [
       "<div>\n",
       "<style scoped>\n",
       "    .dataframe tbody tr th:only-of-type {\n",
       "        vertical-align: middle;\n",
       "    }\n",
       "\n",
       "    .dataframe tbody tr th {\n",
       "        vertical-align: top;\n",
       "    }\n",
       "\n",
       "    .dataframe thead th {\n",
       "        text-align: right;\n",
       "    }\n",
       "</style>\n",
       "<table border=\"1\" class=\"dataframe\">\n",
       "  <thead>\n",
       "    <tr style=\"text-align: right;\">\n",
       "      <th></th>\n",
       "      <th>id</th>\n",
       "      <th>body</th>\n",
       "      <th>class</th>\n",
       "    </tr>\n",
       "  </thead>\n",
       "  <tbody>\n",
       "    <tr>\n",
       "      <th>459</th>\n",
       "      <td>17</td>\n",
       "      <td>[notice, policy, update, dear, customer, information, account, appear, miss, incorrect, please, update, information, promptly, continue, enjoy, benefit, pay...</td>\n",
       "      <td>True</td>\n",
       "    </tr>\n",
       "  </tbody>\n",
       "</table>\n",
       "</div>"
      ],
      "text/plain": [
       "     id  \\\n",
       "459  17   \n",
       "\n",
       "                                                                                                                                                                body  \\\n",
       "459  [notice, policy, update, dear, customer, information, account, appear, miss, incorrect, please, update, information, promptly, continue, enjoy, benefit, pay...   \n",
       "\n",
       "     class  \n",
       "459   True  "
      ]
     },
     "execution_count": 41,
     "metadata": {},
     "output_type": "execute_result"
    }
   ],
   "source": [
    "test_balanced_tokens[test_balanced_tokens['id'] == 17]"
   ]
  },
  {
   "cell_type": "markdown",
   "id": "1bcd7bd6",
   "metadata": {},
   "source": [
    "One of the examples is on the train set while the other is on the test set."
   ]
  },
  {
   "cell_type": "markdown",
   "id": "84c2ad08",
   "metadata": {},
   "source": [
    "### Text"
   ]
  },
  {
   "cell_type": "code",
   "execution_count": 42,
   "id": "f6903a3e",
   "metadata": {
    "ExecuteTime": {
     "end_time": "2023-11-26T12:39:48.869908Z",
     "start_time": "2023-11-26T12:39:48.831278Z"
    }
   },
   "outputs": [],
   "source": [
    "train_balanced_text, test_balanced_text = util.dataset_split(balanced_text, percent=20)"
   ]
  },
  {
   "cell_type": "code",
   "execution_count": 43,
   "id": "3a5b5b98",
   "metadata": {
    "ExecuteTime": {
     "end_time": "2023-11-26T12:39:48.869908Z",
     "start_time": "2023-11-26T12:39:48.847574Z"
    }
   },
   "outputs": [],
   "source": [
    "train_imbalanced_text, test_imbalanced_text = util.dataset_split(imbalanced_text, percent=20)"
   ]
  },
  {
   "cell_type": "markdown",
   "id": "f9d4d588",
   "metadata": {},
   "source": [
    "Confirm that the train and test datasets do not have any different emails:"
   ]
  },
  {
   "cell_type": "code",
   "execution_count": 44,
   "id": "52599477",
   "metadata": {
    "ExecuteTime": {
     "end_time": "2023-11-26T12:39:48.876822Z",
     "start_time": "2023-11-26T12:39:48.860577Z"
    }
   },
   "outputs": [
    {
     "data": {
      "text/plain": [
       "False"
      ]
     },
     "execution_count": 44,
     "metadata": {},
     "output_type": "execute_result"
    }
   ],
   "source": [
    "(train_balanced_text['id'] != train_balanced_tokens['id']).any() and (train_imbalanced_text['id'] != train_imbalanced_tokens['id']).any() and (test_balanced_text['id'] != test_balanced_tokens['id']).any() and (test_imbalanced_text['id'] != test_imbalanced_tokens['id']).any()"
   ]
  },
  {
   "cell_type": "markdown",
   "id": "c6acead1",
   "metadata": {},
   "source": [
    "### Saving the Results"
   ]
  },
  {
   "cell_type": "markdown",
   "id": "1d841ffd",
   "metadata": {},
   "source": [
    "#### Tokens"
   ]
  },
  {
   "cell_type": "code",
   "execution_count": 45,
   "id": "15d3c59b",
   "metadata": {
    "ExecuteTime": {
     "end_time": "2023-11-26T12:39:49.138831Z",
     "start_time": "2023-11-26T12:39:48.877904Z"
    }
   },
   "outputs": [
    {
     "name": "stdout",
     "output_type": "stream",
     "text": [
      "Saving to C:\\Users\\13636\\OneDrive\\01WorkingDirectory\\02PycharmProjects\\FraudulentEmailAttack\\data/csv/train_balanced_tokens.csv\n",
      "Saving to C:\\Users\\13636\\OneDrive\\01WorkingDirectory\\02PycharmProjects\\FraudulentEmailAttack\\data/csv/test_balanced_tokens.csv\n"
     ]
    }
   ],
   "source": [
    "save_to_csv(train_balanced_tokens, csv_path, 'train_balanced_tokens.csv')\n",
    "save_to_csv(test_balanced_tokens, csv_path, 'test_balanced_tokens.csv')"
   ]
  },
  {
   "cell_type": "code",
   "execution_count": 46,
   "id": "6e564015",
   "metadata": {
    "ExecuteTime": {
     "end_time": "2023-11-26T12:39:50.175037Z",
     "start_time": "2023-11-26T12:39:49.113132Z"
    }
   },
   "outputs": [
    {
     "name": "stdout",
     "output_type": "stream",
     "text": [
      "Saving to C:\\Users\\13636\\OneDrive\\01WorkingDirectory\\02PycharmProjects\\FraudulentEmailAttack\\data/csv/train_imbalanced_tokens.csv\n",
      "Saving to C:\\Users\\13636\\OneDrive\\01WorkingDirectory\\02PycharmProjects\\FraudulentEmailAttack\\data/csv/test_imbalanced_tokens.csv\n"
     ]
    }
   ],
   "source": [
    "save_to_csv(train_imbalanced_tokens, csv_path, 'train_imbalanced_tokens.csv')\n",
    "save_to_csv(test_imbalanced_tokens, csv_path, 'test_imbalanced_tokens.csv')"
   ]
  },
  {
   "cell_type": "markdown",
   "id": "89e8c8bb",
   "metadata": {},
   "source": [
    "#### Text"
   ]
  },
  {
   "cell_type": "code",
   "execution_count": 47,
   "id": "c877e846",
   "metadata": {
    "ExecuteTime": {
     "end_time": "2023-11-26T12:39:50.331514Z",
     "start_time": "2023-11-26T12:39:50.174041Z"
    }
   },
   "outputs": [
    {
     "name": "stdout",
     "output_type": "stream",
     "text": [
      "Saving to C:\\Users\\13636\\OneDrive\\01WorkingDirectory\\02PycharmProjects\\FraudulentEmailAttack\\data/csv/train_balanced_text.csv\n",
      "Saving to C:\\Users\\13636\\OneDrive\\01WorkingDirectory\\02PycharmProjects\\FraudulentEmailAttack\\data/csv/test_balanced_text.csv\n"
     ]
    }
   ],
   "source": [
    "save_to_csv(train_balanced_text, csv_path, 'train_balanced_text.csv')\n",
    "save_to_csv(test_balanced_text, csv_path, 'test_balanced_text.csv')"
   ]
  },
  {
   "cell_type": "code",
   "execution_count": 48,
   "id": "60c055ba",
   "metadata": {
    "ExecuteTime": {
     "end_time": "2023-11-26T12:39:51.045775Z",
     "start_time": "2023-11-26T12:39:50.332510Z"
    }
   },
   "outputs": [
    {
     "name": "stdout",
     "output_type": "stream",
     "text": [
      "Saving to C:\\Users\\13636\\OneDrive\\01WorkingDirectory\\02PycharmProjects\\FraudulentEmailAttack\\data/csv/train_imbalanced_text.csv\n",
      "Saving to C:\\Users\\13636\\OneDrive\\01WorkingDirectory\\02PycharmProjects\\FraudulentEmailAttack\\data/csv/test_imbalanced_text.csv\n"
     ]
    }
   ],
   "source": [
    "save_to_csv(train_imbalanced_text, csv_path, 'train_imbalanced_text.csv')\n",
    "save_to_csv(test_imbalanced_text, csv_path, 'test_imbalanced_text.csv')"
   ]
  },
  {
   "cell_type": "code",
   "execution_count": 48,
   "id": "0a427b6c",
   "metadata": {
    "ExecuteTime": {
     "end_time": "2023-11-26T12:39:51.078664Z",
     "start_time": "2023-11-26T12:39:51.046771Z"
    }
   },
   "outputs": [],
   "source": []
  }
 ],
 "metadata": {
  "kernelspec": {
   "display_name": "Python 3 (ipykernel)",
   "language": "python",
   "name": "python3"
  },
  "language_info": {
   "codemirror_mode": {
    "name": "ipython",
    "version": 3
   },
   "file_extension": ".py",
   "mimetype": "text/x-python",
   "name": "python",
   "nbconvert_exporter": "python",
   "pygments_lexer": "ipython3",
   "version": "3.11.5"
  }
 },
 "nbformat": 4,
 "nbformat_minor": 5
}
