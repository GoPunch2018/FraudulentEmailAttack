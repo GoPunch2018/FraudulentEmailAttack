{
 "cells": [
  {
   "cell_type": "code",
   "execution_count": 1,
   "id": "6e41204e",
   "metadata": {
    "ExecuteTime": {
     "start_time": "2023-11-28T09:00:38.579031Z",
     "end_time": "2023-11-28T09:00:46.682805Z"
    }
   },
   "outputs": [],
   "source": [
    "import os\n",
    "import pandas as pd\n",
    "pd.options.display.max_columns = 250\n",
    "\n",
    "import machine_learning as ml\n",
    "from preprocessing import separate_features_target"
   ]
  },
  {
   "cell_type": "code",
   "execution_count": 2,
   "id": "702a8888",
   "metadata": {
    "ExecuteTime": {
     "start_time": "2023-11-28T09:00:46.686803Z",
     "end_time": "2023-11-28T09:00:46.701956Z"
    }
   },
   "outputs": [],
   "source": [
    "# Path\n",
    "cwd = os.getcwd()\n",
    "csv_path = os.path.join(cwd, 'data/csv/')\n",
    "\n",
    "train = {\n",
    "    'stylometric' : ['style_train_balanced.csv','style_train_imbalanced.csv']\n",
    "}\n",
    "test = {\n",
    "    'stylometric' : ['style_test_balanced.csv','style_test_imbalanced.csv']\n",
    "}"
   ]
  },
  {
   "cell_type": "markdown",
   "id": "92e56b07",
   "metadata": {},
   "source": [
    "# Balanced Dataset"
   ]
  },
  {
   "cell_type": "code",
   "execution_count": 3,
   "id": "b22ceeea",
   "metadata": {
    "ExecuteTime": {
     "start_time": "2023-11-28T09:00:46.703765Z",
     "end_time": "2023-11-28T09:00:46.751776Z"
    }
   },
   "outputs": [],
   "source": [
    "style_train_balanced_complete = pd.read_csv(os.path.join(csv_path, train['stylometric'][0]), index_col=0)\n",
    "style_test_balanced_complete = pd.read_csv(os.path.join(csv_path, test['stylometric'][0]), index_col=0)"
   ]
  },
  {
   "cell_type": "code",
   "execution_count": 4,
   "id": "58c36f38",
   "metadata": {
    "ExecuteTime": {
     "start_time": "2023-11-28T09:00:46.755776Z",
     "end_time": "2023-11-28T09:00:46.779770Z"
    }
   },
   "outputs": [],
   "source": [
    "style_train_balanced = separate_features_target(style_train_balanced_complete)\n",
    "style_test_balanced = separate_features_target(style_test_balanced_complete)"
   ]
  },
  {
   "cell_type": "markdown",
   "id": "1df122e5",
   "metadata": {},
   "source": [
    "## Train"
   ]
  },
  {
   "cell_type": "markdown",
   "id": "b5524a22",
   "metadata": {},
   "source": [
    "### Logistic Regression"
   ]
  },
  {
   "cell_type": "code",
   "execution_count": 5,
   "id": "a6a120f8",
   "metadata": {
    "scrolled": false,
    "ExecuteTime": {
     "start_time": "2023-11-28T09:00:46.771755Z",
     "end_time": "2023-11-28T09:00:47.264517Z"
    }
   },
   "outputs": [
    {
     "name": "stdout",
     "output_type": "stream",
     "text": [
      "Train accuracy: 0.8575409265064438\n"
     ]
    },
    {
     "name": "stderr",
     "output_type": "stream",
     "text": [
      "C:\\Users\\13636\\.conda\\envs\\p38phish\\lib\\site-packages\\sklearn\\linear_model\\_logistic.py:444: ConvergenceWarning: lbfgs failed to converge (status=1):\n",
      "STOP: TOTAL NO. of ITERATIONS REACHED LIMIT.\n",
      "\n",
      "Increase the number of iterations (max_iter) or scale the data as shown in:\n",
      "    https://scikit-learn.org/stable/modules/preprocessing.html\n",
      "Please also refer to the documentation for alternative solver options:\n",
      "    https://scikit-learn.org/stable/modules/linear_model.html#logistic-regression\n",
      "  n_iter_i = _check_optimize_result(\n"
     ]
    }
   ],
   "source": [
    "lr_style_balanced = ml.train_logistic_regression(style_train_balanced['features'], style_train_balanced['target'], show_train_accuracy=1)\n",
    "lr_style_balanced, lr_style_balanced_scaler = lr_style_balanced['model'], lr_style_balanced['scaler']"
   ]
  },
  {
   "cell_type": "markdown",
   "id": "831d57cd",
   "metadata": {},
   "source": [
    "### Decision Tree"
   ]
  },
  {
   "cell_type": "code",
   "execution_count": 6,
   "id": "f0cf0908",
   "metadata": {
    "ExecuteTime": {
     "start_time": "2023-11-28T09:00:47.268514Z",
     "end_time": "2023-11-28T09:00:47.356515Z"
    }
   },
   "outputs": [
    {
     "name": "stdout",
     "output_type": "stream",
     "text": [
      "Train accuracy: 0.8557993730407524\n"
     ]
    }
   ],
   "source": [
    "dt_style_balanced = ml.train_decision_tree(style_train_balanced['features'], style_train_balanced['target'], show_train_accuracy=1)"
   ]
  },
  {
   "cell_type": "markdown",
   "id": "603b688f",
   "metadata": {},
   "source": [
    "### Random Forest"
   ]
  },
  {
   "cell_type": "code",
   "execution_count": 7,
   "id": "a36298eb",
   "metadata": {
    "ExecuteTime": {
     "start_time": "2023-11-28T09:00:47.332498Z",
     "end_time": "2023-11-28T09:00:47.453513Z"
    }
   },
   "outputs": [
    {
     "name": "stdout",
     "output_type": "stream",
     "text": [
      "Train accuracy: 0.8840125391849529\n"
     ]
    }
   ],
   "source": [
    "rf_style_balanced = ml.train_random_forest(style_train_balanced['features'], style_train_balanced['target'], show_train_accuracy=1)"
   ]
  },
  {
   "cell_type": "markdown",
   "id": "5e454ca1",
   "metadata": {},
   "source": [
    "### Gradient Boosting Tree"
   ]
  },
  {
   "cell_type": "code",
   "execution_count": 8,
   "id": "4d4c484d",
   "metadata": {
    "ExecuteTime": {
     "start_time": "2023-11-28T09:00:47.457465Z",
     "end_time": "2023-11-28T09:00:49.179873Z"
    }
   },
   "outputs": [
    {
     "name": "stdout",
     "output_type": "stream",
     "text": [
      "Train accuracy: 0.9432253570184604\n"
     ]
    }
   ],
   "source": [
    "gb_style_balanced = ml.train_gradient_boost(style_train_balanced['features'], style_train_balanced['target'], show_train_accuracy=1)"
   ]
  },
  {
   "cell_type": "markdown",
   "id": "2ffe303e",
   "metadata": {},
   "source": [
    "### Naive Bayes"
   ]
  },
  {
   "cell_type": "code",
   "execution_count": 9,
   "id": "1c417f11",
   "metadata": {
    "scrolled": true,
    "ExecuteTime": {
     "start_time": "2023-11-28T09:00:49.183871Z",
     "end_time": "2023-11-28T09:00:49.248728Z"
    }
   },
   "outputs": [
    {
     "name": "stdout",
     "output_type": "stream",
     "text": [
      "Train accuracy: 0.6356670149773598\n"
     ]
    }
   ],
   "source": [
    "nb_style_balanced = ml.train_naive_bayes(style_train_balanced['features'], style_train_balanced['target'], remove_negatives=True, show_train_accuracy=1)\n",
    "nb_style_balanced, nb_style_balanced_scaler = nb_style_balanced['model'], nb_style_balanced['scaler']"
   ]
  },
  {
   "cell_type": "markdown",
   "id": "aafc39b7",
   "metadata": {},
   "source": [
    "## Test"
   ]
  },
  {
   "cell_type": "code",
   "execution_count": 10,
   "id": "b043c4b5",
   "metadata": {
    "ExecuteTime": {
     "start_time": "2023-11-28T09:00:49.212736Z",
     "end_time": "2023-11-28T09:00:49.264723Z"
    }
   },
   "outputs": [],
   "source": [
    "models = [lr_style_balanced, dt_style_balanced, rf_style_balanced, gb_style_balanced, nb_style_balanced]\n",
    "names = ['Logistic Regression', 'Decision Tree', 'Random Forest', 'Gradient Boosting Tree', 'Naive Bayes']"
   ]
  },
  {
   "cell_type": "code",
   "execution_count": 11,
   "id": "893cc6dd",
   "metadata": {
    "ExecuteTime": {
     "start_time": "2023-11-28T09:00:49.224735Z",
     "end_time": "2023-11-28T09:00:49.312709Z"
    }
   },
   "outputs": [],
   "source": [
    "results_style_balanced = ml.multi_model_results(models, names, style_test_balanced['features'], style_test_balanced['target'], lr_style_balanced_scaler, nb_style_balanced_scaler)"
   ]
  },
  {
   "cell_type": "code",
   "execution_count": 12,
   "id": "bec06c19",
   "metadata": {
    "scrolled": true,
    "ExecuteTime": {
     "start_time": "2023-11-28T09:00:49.320708Z",
     "end_time": "2023-11-28T09:00:49.384692Z"
    }
   },
   "outputs": [
    {
     "data": {
      "text/plain": "                        Accuracy  Precision    Recall  F1 Score  \\\nLogistic Regression     0.852368   0.863980  0.868354  0.866162   \nDecision Tree           0.839833   0.838164  0.878481  0.857849   \nRandom Forest           0.871866   0.861575  0.913924  0.886978   \nGradient Boosting Tree  0.895543   0.896040  0.916456  0.906133   \nNaive Bayes             0.650418   0.611801  0.997468  0.758422   \n\n                        False Positive Rate  False Negative Rate  \\\nLogistic Regression                0.167183             0.131646   \nDecision Tree                      0.207430             0.121519   \nRandom Forest                      0.179567             0.086076   \nGradient Boosting Tree             0.130031             0.083544   \nNaive Bayes                        0.773994             0.002532   \n\n                        Area Under ROC Curve  \nLogistic Regression                 0.926512  \nDecision Tree                       0.890771  \nRandom Forest                       0.940158  \nGradient Boosting Tree              0.963405  \nNaive Bayes                         0.878889  ",
      "text/html": "<div>\n<style scoped>\n    .dataframe tbody tr th:only-of-type {\n        vertical-align: middle;\n    }\n\n    .dataframe tbody tr th {\n        vertical-align: top;\n    }\n\n    .dataframe thead th {\n        text-align: right;\n    }\n</style>\n<table border=\"1\" class=\"dataframe\">\n  <thead>\n    <tr style=\"text-align: right;\">\n      <th></th>\n      <th>Accuracy</th>\n      <th>Precision</th>\n      <th>Recall</th>\n      <th>F1 Score</th>\n      <th>False Positive Rate</th>\n      <th>False Negative Rate</th>\n      <th>Area Under ROC Curve</th>\n    </tr>\n  </thead>\n  <tbody>\n    <tr>\n      <th>Logistic Regression</th>\n      <td>0.852368</td>\n      <td>0.863980</td>\n      <td>0.868354</td>\n      <td>0.866162</td>\n      <td>0.167183</td>\n      <td>0.131646</td>\n      <td>0.926512</td>\n    </tr>\n    <tr>\n      <th>Decision Tree</th>\n      <td>0.839833</td>\n      <td>0.838164</td>\n      <td>0.878481</td>\n      <td>0.857849</td>\n      <td>0.207430</td>\n      <td>0.121519</td>\n      <td>0.890771</td>\n    </tr>\n    <tr>\n      <th>Random Forest</th>\n      <td>0.871866</td>\n      <td>0.861575</td>\n      <td>0.913924</td>\n      <td>0.886978</td>\n      <td>0.179567</td>\n      <td>0.086076</td>\n      <td>0.940158</td>\n    </tr>\n    <tr>\n      <th>Gradient Boosting Tree</th>\n      <td>0.895543</td>\n      <td>0.896040</td>\n      <td>0.916456</td>\n      <td>0.906133</td>\n      <td>0.130031</td>\n      <td>0.083544</td>\n      <td>0.963405</td>\n    </tr>\n    <tr>\n      <th>Naive Bayes</th>\n      <td>0.650418</td>\n      <td>0.611801</td>\n      <td>0.997468</td>\n      <td>0.758422</td>\n      <td>0.773994</td>\n      <td>0.002532</td>\n      <td>0.878889</td>\n    </tr>\n  </tbody>\n</table>\n</div>"
     },
     "execution_count": 12,
     "metadata": {},
     "output_type": "execute_result"
    }
   ],
   "source": [
    "results_style_balanced"
   ]
  },
  {
   "cell_type": "markdown",
   "id": "17c175b6",
   "metadata": {},
   "source": [
    "# Imbalanced Dataset"
   ]
  },
  {
   "cell_type": "code",
   "execution_count": 13,
   "id": "8e822c1e",
   "metadata": {
    "ExecuteTime": {
     "start_time": "2023-11-28T09:00:49.344703Z",
     "end_time": "2023-11-28T09:00:49.584643Z"
    }
   },
   "outputs": [],
   "source": [
    "style_train_balanced_complete = pd.read_csv(os.path.join(csv_path, train['stylometric'][1]), index_col=0)\n",
    "style_test_balanced_complete = pd.read_csv(os.path.join(csv_path, test['stylometric'][1]), index_col=0)"
   ]
  },
  {
   "cell_type": "code",
   "execution_count": 14,
   "id": "92875737",
   "metadata": {},
   "outputs": [
    {
     "ename": "KeyError",
     "evalue": "'email_class'",
     "output_type": "error",
     "traceback": [
      "\u001B[1;31m---------------------------------------------------------------------------\u001B[0m",
      "\u001B[1;31mKeyError\u001B[0m                                  Traceback (most recent call last)",
      "File \u001B[1;32m~\\.conda\\envs\\p38phish\\lib\\site-packages\\pandas\\core\\indexes\\base.py:3621\u001B[0m, in \u001B[0;36mIndex.get_loc\u001B[1;34m(self, key, method, tolerance)\u001B[0m\n\u001B[0;32m   3620\u001B[0m \u001B[38;5;28;01mtry\u001B[39;00m:\n\u001B[1;32m-> 3621\u001B[0m     \u001B[38;5;28;01mreturn\u001B[39;00m \u001B[38;5;28;43mself\u001B[39;49m\u001B[38;5;241;43m.\u001B[39;49m\u001B[43m_engine\u001B[49m\u001B[38;5;241;43m.\u001B[39;49m\u001B[43mget_loc\u001B[49m\u001B[43m(\u001B[49m\u001B[43mcasted_key\u001B[49m\u001B[43m)\u001B[49m\n\u001B[0;32m   3622\u001B[0m \u001B[38;5;28;01mexcept\u001B[39;00m \u001B[38;5;167;01mKeyError\u001B[39;00m \u001B[38;5;28;01mas\u001B[39;00m err:\n",
      "File \u001B[1;32m~\\.conda\\envs\\p38phish\\lib\\site-packages\\pandas\\_libs\\index.pyx:136\u001B[0m, in \u001B[0;36mpandas._libs.index.IndexEngine.get_loc\u001B[1;34m()\u001B[0m\n",
      "File \u001B[1;32m~\\.conda\\envs\\p38phish\\lib\\site-packages\\pandas\\_libs\\index.pyx:163\u001B[0m, in \u001B[0;36mpandas._libs.index.IndexEngine.get_loc\u001B[1;34m()\u001B[0m\n",
      "File \u001B[1;32mpandas\\_libs\\hashtable_class_helper.pxi:5198\u001B[0m, in \u001B[0;36mpandas._libs.hashtable.PyObjectHashTable.get_item\u001B[1;34m()\u001B[0m\n",
      "File \u001B[1;32mpandas\\_libs\\hashtable_class_helper.pxi:5206\u001B[0m, in \u001B[0;36mpandas._libs.hashtable.PyObjectHashTable.get_item\u001B[1;34m()\u001B[0m\n",
      "\u001B[1;31mKeyError\u001B[0m: 'email_class'",
      "\nThe above exception was the direct cause of the following exception:\n",
      "\u001B[1;31mKeyError\u001B[0m                                  Traceback (most recent call last)",
      "Cell \u001B[1;32mIn[14], line 2\u001B[0m\n\u001B[0;32m      1\u001B[0m style_train_imbalanced \u001B[38;5;241m=\u001B[39m separate_features_target(style_train_balanced_complete)\n\u001B[1;32m----> 2\u001B[0m style_test_imbalanced \u001B[38;5;241m=\u001B[39m \u001B[43mseparate_features_target\u001B[49m\u001B[43m(\u001B[49m\u001B[43mstyle_test_balanced_complete\u001B[49m\u001B[43m)\u001B[49m\n",
      "File \u001B[1;32m~\\OneDrive\\01WorkingDirectory\\02PycharmProjects\\FraudulentEmailAttack\\preprocessing.py:405\u001B[0m, in \u001B[0;36mseparate_features_target\u001B[1;34m(dataframe, num_cols_ignore, class_col_name)\u001B[0m\n\u001B[0;32m    378\u001B[0m \u001B[38;5;28;01mdef\u001B[39;00m \u001B[38;5;21mseparate_features_target\u001B[39m(dataframe, num_cols_ignore\u001B[38;5;241m=\u001B[39m\u001B[38;5;241m2\u001B[39m, class_col_name\u001B[38;5;241m=\u001B[39m\u001B[38;5;124m'\u001B[39m\u001B[38;5;124memail_class\u001B[39m\u001B[38;5;124m'\u001B[39m):\n\u001B[0;32m    379\u001B[0m \u001B[38;5;250m    \u001B[39m\u001B[38;5;124;03m\"\"\"\u001B[39;00m\n\u001B[0;32m    380\u001B[0m \u001B[38;5;124;03m    Separate feature columns from the target column.\u001B[39;00m\n\u001B[0;32m    381\u001B[0m \n\u001B[1;32m   (...)\u001B[0m\n\u001B[0;32m    402\u001B[0m \u001B[38;5;124;03m        A dictionary containing the features and target.\u001B[39;00m\n\u001B[0;32m    403\u001B[0m \u001B[38;5;124;03m    \"\"\"\u001B[39;00m\n\u001B[0;32m    404\u001B[0m     \u001B[38;5;28;01mreturn\u001B[39;00m {\u001B[38;5;124m'\u001B[39m\u001B[38;5;124mfeatures\u001B[39m\u001B[38;5;124m'\u001B[39m: dataframe[dataframe\u001B[38;5;241m.\u001B[39mcolumns[num_cols_ignore:]],\n\u001B[1;32m--> 405\u001B[0m             \u001B[38;5;124m'\u001B[39m\u001B[38;5;124mtarget\u001B[39m\u001B[38;5;124m'\u001B[39m: \u001B[43mdataframe\u001B[49m\u001B[43m[\u001B[49m\u001B[43mclass_col_name\u001B[49m\u001B[43m]\u001B[49m}\n",
      "File \u001B[1;32m~\\.conda\\envs\\p38phish\\lib\\site-packages\\pandas\\core\\frame.py:3505\u001B[0m, in \u001B[0;36mDataFrame.__getitem__\u001B[1;34m(self, key)\u001B[0m\n\u001B[0;32m   3503\u001B[0m \u001B[38;5;28;01mif\u001B[39;00m \u001B[38;5;28mself\u001B[39m\u001B[38;5;241m.\u001B[39mcolumns\u001B[38;5;241m.\u001B[39mnlevels \u001B[38;5;241m>\u001B[39m \u001B[38;5;241m1\u001B[39m:\n\u001B[0;32m   3504\u001B[0m     \u001B[38;5;28;01mreturn\u001B[39;00m \u001B[38;5;28mself\u001B[39m\u001B[38;5;241m.\u001B[39m_getitem_multilevel(key)\n\u001B[1;32m-> 3505\u001B[0m indexer \u001B[38;5;241m=\u001B[39m \u001B[38;5;28;43mself\u001B[39;49m\u001B[38;5;241;43m.\u001B[39;49m\u001B[43mcolumns\u001B[49m\u001B[38;5;241;43m.\u001B[39;49m\u001B[43mget_loc\u001B[49m\u001B[43m(\u001B[49m\u001B[43mkey\u001B[49m\u001B[43m)\u001B[49m\n\u001B[0;32m   3506\u001B[0m \u001B[38;5;28;01mif\u001B[39;00m is_integer(indexer):\n\u001B[0;32m   3507\u001B[0m     indexer \u001B[38;5;241m=\u001B[39m [indexer]\n",
      "File \u001B[1;32m~\\.conda\\envs\\p38phish\\lib\\site-packages\\pandas\\core\\indexes\\base.py:3623\u001B[0m, in \u001B[0;36mIndex.get_loc\u001B[1;34m(self, key, method, tolerance)\u001B[0m\n\u001B[0;32m   3621\u001B[0m     \u001B[38;5;28;01mreturn\u001B[39;00m \u001B[38;5;28mself\u001B[39m\u001B[38;5;241m.\u001B[39m_engine\u001B[38;5;241m.\u001B[39mget_loc(casted_key)\n\u001B[0;32m   3622\u001B[0m \u001B[38;5;28;01mexcept\u001B[39;00m \u001B[38;5;167;01mKeyError\u001B[39;00m \u001B[38;5;28;01mas\u001B[39;00m err:\n\u001B[1;32m-> 3623\u001B[0m     \u001B[38;5;28;01mraise\u001B[39;00m \u001B[38;5;167;01mKeyError\u001B[39;00m(key) \u001B[38;5;28;01mfrom\u001B[39;00m \u001B[38;5;21;01merr\u001B[39;00m\n\u001B[0;32m   3624\u001B[0m \u001B[38;5;28;01mexcept\u001B[39;00m \u001B[38;5;167;01mTypeError\u001B[39;00m:\n\u001B[0;32m   3625\u001B[0m     \u001B[38;5;66;03m# If we have a listlike key, _check_indexing_error will raise\u001B[39;00m\n\u001B[0;32m   3626\u001B[0m     \u001B[38;5;66;03m#  InvalidIndexError. Otherwise we fall through and re-raise\u001B[39;00m\n\u001B[0;32m   3627\u001B[0m     \u001B[38;5;66;03m#  the TypeError.\u001B[39;00m\n\u001B[0;32m   3628\u001B[0m     \u001B[38;5;28mself\u001B[39m\u001B[38;5;241m.\u001B[39m_check_indexing_error(key)\n",
      "\u001B[1;31mKeyError\u001B[0m: 'email_class'"
     ]
    }
   ],
   "source": [
    "style_train_imbalanced = separate_features_target(style_train_balanced_complete)\n",
    "style_test_imbalanced = separate_features_target(style_test_balanced_complete)"
   ]
  },
  {
   "cell_type": "markdown",
   "id": "fb971a2e",
   "metadata": {},
   "source": [
    "## Train"
   ]
  },
  {
   "cell_type": "markdown",
   "id": "63d30889",
   "metadata": {},
   "source": [
    "### Logistic Regression"
   ]
  },
  {
   "cell_type": "code",
   "execution_count": null,
   "id": "f2e3c5a7",
   "metadata": {
    "scrolled": false
   },
   "outputs": [],
   "source": [
    "lr_style_imbalanced = ml.train_logistic_regression(style_train_imbalanced['features'], style_train_imbalanced['target'], show_train_accuracy=1)\n",
    "lr_style_imbalanced, lr_style_imbalanced_scaler = lr_style_imbalanced['model'], lr_style_imbalanced['scaler']"
   ]
  },
  {
   "cell_type": "markdown",
   "id": "77f24d37",
   "metadata": {},
   "source": [
    "### Decision Tree"
   ]
  },
  {
   "cell_type": "code",
   "execution_count": null,
   "id": "43e982c1",
   "metadata": {},
   "outputs": [],
   "source": [
    "dt_style_imbalanced = ml.train_decision_tree(style_train_imbalanced['features'], style_train_imbalanced['target'], show_train_accuracy=1)"
   ]
  },
  {
   "cell_type": "markdown",
   "id": "8e705888",
   "metadata": {},
   "source": [
    "### Random Forest"
   ]
  },
  {
   "cell_type": "code",
   "execution_count": null,
   "id": "aca4ac59",
   "metadata": {},
   "outputs": [],
   "source": [
    "rf_style_imbalanced = ml.train_random_forest(style_train_imbalanced['features'], style_train_imbalanced['target'], show_train_accuracy=1)"
   ]
  },
  {
   "cell_type": "markdown",
   "id": "096b24b6",
   "metadata": {},
   "source": [
    "### Gradient Boosting Tree"
   ]
  },
  {
   "cell_type": "code",
   "execution_count": null,
   "id": "a7befc87",
   "metadata": {},
   "outputs": [],
   "source": [
    "gb_style_imbalanced = ml.train_gradient_boost(style_train_imbalanced['features'], style_train_imbalanced['target'], show_train_accuracy=1)"
   ]
  },
  {
   "cell_type": "markdown",
   "id": "4d24a745",
   "metadata": {},
   "source": [
    "### Naive Bayes"
   ]
  },
  {
   "cell_type": "code",
   "execution_count": null,
   "id": "fc096899",
   "metadata": {
    "scrolled": false
   },
   "outputs": [],
   "source": [
    "nb_style_imbalanced = ml.train_naive_bayes(style_train_imbalanced['features'], style_train_imbalanced['target'], remove_negatives=True, show_train_accuracy=1)\n",
    "nb_style_imbalanced, nb_style_imbalanced_scaler = nb_style_imbalanced['model'], nb_style_imbalanced['scaler']"
   ]
  },
  {
   "cell_type": "markdown",
   "id": "5f217858",
   "metadata": {},
   "source": [
    "## Test"
   ]
  },
  {
   "cell_type": "code",
   "execution_count": null,
   "id": "8dee1fcf",
   "metadata": {},
   "outputs": [],
   "source": [
    "models = [lr_style_imbalanced, dt_style_imbalanced, rf_style_imbalanced, gb_style_imbalanced, nb_style_imbalanced]\n",
    "names = ['Logistic Regression', 'Decision Tree', 'Random Forest', 'Gradient Boosting Tree', 'Naive Bayes']"
   ]
  },
  {
   "cell_type": "code",
   "execution_count": null,
   "id": "c46a0300",
   "metadata": {
    "scrolled": false
   },
   "outputs": [],
   "source": [
    "results_style_imbalanced = ml.multi_model_results(models, names, style_test_imbalanced['features'], style_test_imbalanced['target'], lr_style_imbalanced_scaler, nb_style_imbalanced_scaler)"
   ]
  },
  {
   "cell_type": "code",
   "execution_count": null,
   "id": "ec1e95eb",
   "metadata": {},
   "outputs": [],
   "source": [
    "results_style_imbalanced"
   ]
  },
  {
   "cell_type": "markdown",
   "id": "6bf00c64",
   "metadata": {},
   "source": [
    "# Comparison"
   ]
  },
  {
   "cell_type": "markdown",
   "id": "639fc548",
   "metadata": {},
   "source": [
    "- This feature set is consistently a lot worse than the text content features. It seems like there may not be many strong predictors of phishing emails in the style of the author (which makes sense since authors of phishing emails try to imitate legitimate sources as much as possible), and the number of features was not big enough to make up for this.\n",
    "- However, the prediction capability is *still* a lot better than random chance (especially for the balanced dataset), so the combination of style and content featues might give better results.\n",
    "- The results were a lot worse in the imbalanced dataset.\n",
    "- Gradient Boosting was by far the best performing algorithm."
   ]
  }
 ],
 "metadata": {
  "kernelspec": {
   "display_name": "Python 3 (ipykernel)",
   "language": "python",
   "name": "python3"
  },
  "language_info": {
   "codemirror_mode": {
    "name": "ipython",
    "version": 3
   },
   "file_extension": ".py",
   "mimetype": "text/x-python",
   "name": "python",
   "nbconvert_exporter": "python",
   "pygments_lexer": "ipython3",
   "version": "3.11.5"
  }
 },
 "nbformat": 4,
 "nbformat_minor": 5
}
